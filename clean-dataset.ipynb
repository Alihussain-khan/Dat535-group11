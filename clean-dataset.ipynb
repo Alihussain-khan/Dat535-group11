{
 "cells": [
  {
   "cell_type": "markdown",
   "metadata": {},
   "source": [
    "### here i am trying to retain header and the data shape together\n"
   ]
  },
  {
   "cell_type": "markdown",
   "metadata": {},
   "source": [
    "Imports"
   ]
  },
  {
   "cell_type": "code",
   "execution_count": 175,
   "metadata": {},
   "outputs": [],
   "source": [
    "from pyspark.sql import SparkSession\n",
    "from pyspark.sql.functions import col, regexp_replace,lit, desc, lower\n",
    "from pyspark.sql.types import StructType, StructField, IntegerType, StringType\n",
    "from pyspark.sql import SparkSession"
   ]
  },
  {
   "cell_type": "markdown",
   "metadata": {},
   "source": [
    "Starting session"
   ]
  },
  {
   "cell_type": "code",
   "execution_count": 176,
   "metadata": {},
   "outputs": [],
   "source": [
    "spark = SparkSession.builder \\\n",
    "    .appName(\"Clean dataset\") \\\n",
    "    .getOrCreate()\n",
    "#spark = SparkSession.builder \\\n",
    "    #.appName(\"Clean dataset 3\").config(\"spark.executor.instances\", \"3\").config(\"spark.executor.cores\", \"2\").config(\"spark.executor.memory\", \"4g\").getOrCreate()"
   ]
  },
  {
   "cell_type": "markdown",
   "metadata": {},
   "source": [
    "paths to csv and textfile"
   ]
  },
  {
   "cell_type": "code",
   "execution_count": 177,
   "metadata": {},
   "outputs": [],
   "source": [
    "text_path = \"hdfs:///eaplayer_data/male_players_text_revised\""
   ]
  },
  {
   "cell_type": "code",
   "execution_count": 178,
   "metadata": {},
   "outputs": [],
   "source": [
    "text_rdd = spark.sparkContext.textFile(text_path)"
   ]
  },
  {
   "cell_type": "code",
   "execution_count": 179,
   "metadata": {},
   "outputs": [
    {
     "name": "stderr",
     "output_type": "stream",
     "text": [
      "                                                                                \r"
     ]
    },
    {
     "ename": "ValueError",
     "evalue": "RDD is empty",
     "output_type": "error",
     "traceback": [
      "\u001b[0;31m---------------------------------------------------------------------------\u001b[0m",
      "\u001b[0;31mValueError\u001b[0m                                Traceback (most recent call last)",
      "Cell \u001b[0;32mIn[179], line 1\u001b[0m\n\u001b[0;32m----> 1\u001b[0m header \u001b[38;5;241m=\u001b[39m \u001b[43mtext_rdd\u001b[49m\u001b[38;5;241;43m.\u001b[39;49m\u001b[43mfilter\u001b[49m\u001b[43m(\u001b[49m\u001b[38;5;28;43;01mlambda\u001b[39;49;00m\u001b[43m \u001b[49m\u001b[43mrow\u001b[49m\u001b[43m:\u001b[49m\u001b[43m \u001b[49m\u001b[38;5;124;43m\"\u001b[39;49m\u001b[38;5;124;43mplayer_id\u001b[39;49m\u001b[38;5;124;43m\"\u001b[39;49m\u001b[43m \u001b[49m\u001b[38;5;129;43;01min\u001b[39;49;00m\u001b[43m \u001b[49m\u001b[43mrow\u001b[49m\u001b[43m)\u001b[49m\u001b[38;5;241;43m.\u001b[39;49m\u001b[43mfirst\u001b[49m\u001b[43m(\u001b[49m\u001b[43m)\u001b[49m\n\u001b[1;32m      2\u001b[0m data_rdd \u001b[38;5;241m=\u001b[39m text_rdd\u001b[38;5;241m.\u001b[39mfilter(\u001b[38;5;28;01mlambda\u001b[39;00m row: row \u001b[38;5;241m!=\u001b[39m header)\n",
      "File \u001b[0;32m~/.local/lib/python3.8/site-packages/pyspark/rdd.py:2891\u001b[0m, in \u001b[0;36mRDD.first\u001b[0;34m(self)\u001b[0m\n\u001b[1;32m   2889\u001b[0m \u001b[38;5;28;01mif\u001b[39;00m rs:\n\u001b[1;32m   2890\u001b[0m     \u001b[38;5;28;01mreturn\u001b[39;00m rs[\u001b[38;5;241m0\u001b[39m]\n\u001b[0;32m-> 2891\u001b[0m \u001b[38;5;28;01mraise\u001b[39;00m \u001b[38;5;167;01mValueError\u001b[39;00m(\u001b[38;5;124m\"\u001b[39m\u001b[38;5;124mRDD is empty\u001b[39m\u001b[38;5;124m\"\u001b[39m)\n",
      "\u001b[0;31mValueError\u001b[0m: RDD is empty"
     ]
    }
   ],
   "source": [
    "header = text_rdd.filter(lambda row: \"player_id\" in row).first()\n",
    "data_rdd = text_rdd.filter(lambda row: row != header)"
   ]
  },
  {
   "cell_type": "code",
   "execution_count": null,
   "metadata": {},
   "outputs": [
    {
     "ename": "AttributeError",
     "evalue": "'NoneType' object has no attribute 'sc'",
     "output_type": "error",
     "traceback": [
      "\u001b[0;31m---------------------------------------------------------------------------\u001b[0m",
      "\u001b[0;31mAttributeError\u001b[0m                            Traceback (most recent call last)",
      "Cell \u001b[0;32mIn[168], line 1\u001b[0m\n\u001b[0;32m----> 1\u001b[0m \u001b[43mdata_rdd\u001b[49m\u001b[38;5;241;43m.\u001b[39;49m\u001b[43mtake\u001b[49m\u001b[43m(\u001b[49m\u001b[38;5;241;43m5\u001b[39;49m\u001b[43m)\u001b[49m\n",
      "File \u001b[0;32m~/.local/lib/python3.8/site-packages/pyspark/rdd.py:2855\u001b[0m, in \u001b[0;36mRDD.take\u001b[0;34m(self, num)\u001b[0m\n\u001b[1;32m   2852\u001b[0m         taken \u001b[38;5;241m+\u001b[39m\u001b[38;5;241m=\u001b[39m \u001b[38;5;241m1\u001b[39m\n\u001b[1;32m   2854\u001b[0m p \u001b[38;5;241m=\u001b[39m \u001b[38;5;28mrange\u001b[39m(partsScanned, \u001b[38;5;28mmin\u001b[39m(partsScanned \u001b[38;5;241m+\u001b[39m numPartsToTry, totalParts))\n\u001b[0;32m-> 2855\u001b[0m res \u001b[38;5;241m=\u001b[39m \u001b[38;5;28;43mself\u001b[39;49m\u001b[38;5;241;43m.\u001b[39;49m\u001b[43mcontext\u001b[49m\u001b[38;5;241;43m.\u001b[39;49m\u001b[43mrunJob\u001b[49m\u001b[43m(\u001b[49m\u001b[38;5;28;43mself\u001b[39;49m\u001b[43m,\u001b[49m\u001b[43m \u001b[49m\u001b[43mtakeUpToNumLeft\u001b[49m\u001b[43m,\u001b[49m\u001b[43m \u001b[49m\u001b[43mp\u001b[49m\u001b[43m)\u001b[49m\n\u001b[1;32m   2857\u001b[0m items \u001b[38;5;241m+\u001b[39m\u001b[38;5;241m=\u001b[39m res\n\u001b[1;32m   2858\u001b[0m partsScanned \u001b[38;5;241m+\u001b[39m\u001b[38;5;241m=\u001b[39m numPartsToTry\n",
      "File \u001b[0;32m~/.local/lib/python3.8/site-packages/pyspark/context.py:2510\u001b[0m, in \u001b[0;36mSparkContext.runJob\u001b[0;34m(self, rdd, partitionFunc, partitions, allowLocal)\u001b[0m\n\u001b[1;32m   2508\u001b[0m mappedRDD \u001b[38;5;241m=\u001b[39m rdd\u001b[38;5;241m.\u001b[39mmapPartitions(partitionFunc)\n\u001b[1;32m   2509\u001b[0m \u001b[38;5;28;01massert\u001b[39;00m \u001b[38;5;28mself\u001b[39m\u001b[38;5;241m.\u001b[39m_jvm \u001b[38;5;129;01mis\u001b[39;00m \u001b[38;5;129;01mnot\u001b[39;00m \u001b[38;5;28;01mNone\u001b[39;00m\n\u001b[0;32m-> 2510\u001b[0m sock_info \u001b[38;5;241m=\u001b[39m \u001b[38;5;28mself\u001b[39m\u001b[38;5;241m.\u001b[39m_jvm\u001b[38;5;241m.\u001b[39mPythonRDD\u001b[38;5;241m.\u001b[39mrunJob(\u001b[38;5;28;43mself\u001b[39;49m\u001b[38;5;241;43m.\u001b[39;49m\u001b[43m_jsc\u001b[49m\u001b[38;5;241;43m.\u001b[39;49m\u001b[43msc\u001b[49m(), mappedRDD\u001b[38;5;241m.\u001b[39m_jrdd, partitions)\n\u001b[1;32m   2511\u001b[0m \u001b[38;5;28;01mreturn\u001b[39;00m \u001b[38;5;28mlist\u001b[39m(_load_from_socket(sock_info, mappedRDD\u001b[38;5;241m.\u001b[39m_jrdd_deserializer))\n",
      "\u001b[0;31mAttributeError\u001b[0m: 'NoneType' object has no attribute 'sc'"
     ]
    }
   ],
   "source": [
    "data_rdd.take(5)"
   ]
  },
  {
   "cell_type": "markdown",
   "metadata": {},
   "source": [
    "Debugging none value"
   ]
  },
  {
   "cell_type": "code",
   "execution_count": null,
   "metadata": {},
   "outputs": [
    {
     "name": "stderr",
     "output_type": "stream",
     "text": [
      "[Stage 3:======================================================>  (48 + 2) / 50]\r"
     ]
    },
    {
     "name": "stdout",
     "output_type": "stream",
     "text": [
      "Number of rows with None values: 10003590\n"
     ]
    },
    {
     "name": "stderr",
     "output_type": "stream",
     "text": [
      "                                                                                \r"
     ]
    }
   ],
   "source": [
    "def has_none_values(fields):\n",
    "    return any(field.strip() == \"\" or field.strip().lower() == \"none\" for field in fields)\n",
    "none_rows = data_rdd.filter(has_none_values)\n",
    "none_count = none_rows.count()\n",
    "print(f\"Number of rows with None values: {none_count}\")"
   ]
  },
  {
   "cell_type": "code",
   "execution_count": null,
   "metadata": {},
   "outputs": [
    {
     "data": {
      "text/plain": [
       "['player_id',\n",
       " 'player_url',\n",
       " 'fifa_version',\n",
       " 'fifa_update',\n",
       " 'fifa_update_date',\n",
       " 'short_name',\n",
       " 'long_name',\n",
       " 'player_positions',\n",
       " 'overall',\n",
       " 'potential',\n",
       " 'value_eur',\n",
       " 'wage_eur',\n",
       " 'age',\n",
       " 'dob',\n",
       " 'height_cm',\n",
       " 'weight_kg',\n",
       " 'league_id',\n",
       " 'league_name',\n",
       " 'league_level',\n",
       " 'club_team_id',\n",
       " 'club_name',\n",
       " 'club_position',\n",
       " 'club_jersey_number',\n",
       " 'club_loaned_from',\n",
       " 'club_joined_date',\n",
       " 'club_contract_valid_until_year',\n",
       " 'nationality_id',\n",
       " 'nationality_name',\n",
       " 'nation_team_id',\n",
       " 'nation_position',\n",
       " 'nation_jersey_number',\n",
       " 'preferred_foot',\n",
       " 'weak_foot',\n",
       " 'skill_moves',\n",
       " 'international_reputation',\n",
       " 'work_rate',\n",
       " 'body_type',\n",
       " 'real_face',\n",
       " 'release_clause_eur',\n",
       " 'player_tags',\n",
       " 'player_traits',\n",
       " 'pace',\n",
       " 'shooting',\n",
       " 'passing',\n",
       " 'dribbling',\n",
       " 'defending',\n",
       " 'physic',\n",
       " 'attacking_crossing',\n",
       " 'attacking_finishing',\n",
       " 'attacking_heading_accuracy',\n",
       " 'attacking_short_passing',\n",
       " 'attacking_volleys',\n",
       " 'skill_dribbling',\n",
       " 'skill_curve',\n",
       " 'skill_fk_accuracy',\n",
       " 'skill_long_passing',\n",
       " 'skill_ball_control',\n",
       " 'movement_acceleration',\n",
       " 'movement_sprint_speed',\n",
       " 'movement_agility',\n",
       " 'movement_reactions',\n",
       " 'movement_balance',\n",
       " 'power_shot_power',\n",
       " 'power_jumping',\n",
       " 'power_stamina',\n",
       " 'power_strength',\n",
       " 'power_long_shots',\n",
       " 'mentality_aggression',\n",
       " 'mentality_interceptions',\n",
       " 'mentality_positioning',\n",
       " 'mentality_vision',\n",
       " 'mentality_penalties',\n",
       " 'mentality_composure',\n",
       " 'defending_marking_awareness',\n",
       " 'defending_standing_tackle',\n",
       " 'defending_sliding_tackle',\n",
       " 'goalkeeping_diving',\n",
       " 'goalkeeping_handling',\n",
       " 'goalkeeping_kicking',\n",
       " 'goalkeeping_positioning',\n",
       " 'goalkeeping_reflexes',\n",
       " 'goalkeeping_speed',\n",
       " 'ls',\n",
       " 'st',\n",
       " 'rs',\n",
       " 'lw',\n",
       " 'lf',\n",
       " 'cf',\n",
       " 'rf',\n",
       " 'rw',\n",
       " 'lam',\n",
       " 'cam',\n",
       " 'ram',\n",
       " 'lm',\n",
       " 'lcm',\n",
       " 'cm',\n",
       " 'rcm',\n",
       " 'rm',\n",
       " 'lwb',\n",
       " 'ldm',\n",
       " 'cdm',\n",
       " 'rdm',\n",
       " 'rwb',\n",
       " 'lb',\n",
       " 'lcb',\n",
       " 'cb',\n",
       " 'rcb',\n",
       " 'rb',\n",
       " 'gk',\n",
       " 'player_face_url']"
      ]
     },
     "execution_count": 129,
     "metadata": {},
     "output_type": "execute_result"
    }
   ],
   "source": [
    "split_header = header.split(\",\")\n",
    "split_header"
   ]
  },
  {
   "cell_type": "markdown",
   "metadata": {},
   "source": [
    "Spliting all rows into little strings"
   ]
  },
  {
   "cell_type": "code",
   "execution_count": null,
   "metadata": {},
   "outputs": [],
   "source": [
    "text_rdd_split = data_rdd.map(lambda x: x.split(\", \"))"
   ]
  },
  {
   "cell_type": "markdown",
   "metadata": {},
   "source": [
    "Checking the available players for the every version"
   ]
  },
  {
   "cell_type": "code",
   "execution_count": null,
   "metadata": {},
   "outputs": [
    {
     "name": "stderr",
     "output_type": "stream",
     "text": [
      "                                                                                \r"
     ]
    },
    {
     "data": {
      "text/plain": [
       "[('21', 1197628),\n",
       " ('20', 1128336),\n",
       " ('23', 166674),\n",
       " ('18', 1512360),\n",
       " ('16', 986175),\n",
       " ('15', 962549),\n",
       " ('19', 1229986),\n",
       " ('22', 1218451),\n",
       " ('17', 1601431)]"
      ]
     },
     "execution_count": 131,
     "metadata": {},
     "output_type": "execute_result"
    }
   ],
   "source": [
    "number_players =text_rdd_split.map(lambda x:(x[2],1))\n",
    "number_players.reduceByKey(lambda x,y: x+y).collect()"
   ]
  },
  {
   "cell_type": "markdown",
   "metadata": {},
   "source": [
    "Filtering the latest version"
   ]
  },
  {
   "cell_type": "code",
   "execution_count": null,
   "metadata": {},
   "outputs": [
    {
     "name": "stderr",
     "output_type": "stream",
     "text": [
      "                                                                                \r"
     ]
    },
    {
     "data": {
      "text/plain": [
       "166674"
      ]
     },
     "execution_count": 132,
     "metadata": {},
     "output_type": "execute_result"
    }
   ],
   "source": [
    "version_23 = text_rdd_split.filter(lambda x: x[2] == '23')\n",
    "version_23.count()"
   ]
  },
  {
   "cell_type": "markdown",
   "metadata": {},
   "source": [
    "checking duplicates"
   ]
  },
  {
   "cell_type": "code",
   "execution_count": null,
   "metadata": {},
   "outputs": [],
   "source": [
    "rdd = version_23.distinct()"
   ]
  },
  {
   "cell_type": "markdown",
   "metadata": {},
   "source": [
    "checking number of columns"
   ]
  },
  {
   "cell_type": "code",
   "execution_count": null,
   "metadata": {},
   "outputs": [],
   "source": [
    "rdd = rdd.filter(lambda cols: len(cols) == 110 )"
   ]
  },
  {
   "cell_type": "markdown",
   "metadata": {},
   "source": [
    "removing less important columns "
   ]
  },
  {
   "cell_type": "code",
   "execution_count": null,
   "metadata": {},
   "outputs": [],
   "source": [
    "columns_to_drop = ['player_url', \n",
    "'player_face_url', \n",
    "'player_traits', \n",
    "'real_face', \n",
    "'release_clause_eur', \n",
    "'body_type', \n",
    "'nation_jersey_number', \n",
    "'club_loaned_from', \n",
    "'goalkeeping_speed', \n",
    "'fifa_update', \n",
    "'fifa_update_date', \n",
    "'long_name', \n",
    "'wage_eur', \n",
    "'value_eur', \n",
    "'dob', \n",
    "'player_tags', \n",
    "'club_name',\n",
    "'player_positions',\n",
    "'club_jersey_number',\n",
    "'club_joined_date',\n",
    "'club_contract_valid_until_year',\n",
    "'league_id',\n",
    " 'league_name',\n",
    " 'league_level',\n",
    " 'club_team_id',\n",
    " 'nationality_id',\n",
    " 'nationality_name',\n",
    " 'nation_team_id',\n",
    " 'nation_position',\n",
    " 'preferred_foot',\n",
    " 'international_reputation',\n",
    " 'work_rate',]"
   ]
  },
  {
   "cell_type": "code",
   "execution_count": null,
   "metadata": {},
   "outputs": [
    {
     "name": "stdout",
     "output_type": "stream",
     "text": [
      "Indices of columns to drop: [1, 3, 4, 6, 7, 10, 11, 13, 16, 17, 18, 19, 20, 22, 23, 24, 25, 26, 27, 28, 29, 30, 31, 34, 35, 36, 37, 38, 39, 40, 81, 109]\n"
     ]
    }
   ],
   "source": [
    "drop_indices = [i for i, col in enumerate(split_header) if col in columns_to_drop]\n",
    "print(\"Indices of columns to drop:\", drop_indices)"
   ]
  },
  {
   "cell_type": "code",
   "execution_count": null,
   "metadata": {},
   "outputs": [
    {
     "name": "stdout",
     "output_type": "stream",
     "text": [
      "Indices of columns to keep: [0, 2, 5, 8, 9, 12, 14, 15, 21, 32, 33, 41, 42, 43, 44, 45, 46, 47, 48, 49, 50, 51, 52, 53, 54, 55, 56, 57, 58, 59, 60, 61, 62, 63, 64, 65, 66, 67, 68, 69, 70, 71, 72, 73, 74, 75, 76, 77, 78, 79, 80, 82, 83, 84, 85, 86, 87, 88, 89, 90, 91, 92, 93, 94, 95, 96, 97, 98, 99, 100, 101, 102, 103, 104, 105, 106, 107, 108]\n"
     ]
    }
   ],
   "source": [
    "keep_indices = [i for i in range(len(split_header)) if i not in drop_indices]\n",
    "print(\"Indices of columns to keep:\", keep_indices)"
   ]
  },
  {
   "cell_type": "code",
   "execution_count": null,
   "metadata": {},
   "outputs": [],
   "source": [
    "text_rdd_selected = version_23.map(lambda row: [row[i] for i in keep_indices])\n",
    "selected_header_columns = [split_header[i] for i in keep_indices]"
   ]
  },
  {
   "cell_type": "code",
   "execution_count": null,
   "metadata": {},
   "outputs": [
    {
     "data": {
      "text/plain": [
       "78"
      ]
     },
     "execution_count": 139,
     "metadata": {},
     "output_type": "execute_result"
    }
   ],
   "source": [
    "len(selected_header_columns)"
   ]
  },
  {
   "cell_type": "markdown",
   "metadata": {},
   "source": [
    "Removing copies, where id is same but other data is different. "
   ]
  },
  {
   "cell_type": "code",
   "execution_count": null,
   "metadata": {},
   "outputs": [],
   "source": [
    "keyed_rdd = text_rdd_selected.map(lambda row: (row[0], row))\n",
    "deduplicated_rdd = keyed_rdd.reduceByKey(lambda a, b: a)\n",
    "final_rdd = deduplicated_rdd.map(lambda kv: kv[1])"
   ]
  },
  {
   "cell_type": "code",
   "execution_count": null,
   "metadata": {},
   "outputs": [
    {
     "name": "stderr",
     "output_type": "stream",
     "text": [
      "[Stage 9:=======================================================> (49 + 1) / 50]\r"
     ]
    },
    {
     "name": "stdout",
     "output_type": "stream",
     "text": [
      "Unique player_ids in original RDD: 20621\n",
      "Unique player_ids in deduplicated RDD: 20621\n"
     ]
    },
    {
     "name": "stderr",
     "output_type": "stream",
     "text": [
      "                                                                                \r"
     ]
    }
   ],
   "source": [
    "original_unique_count = text_rdd_selected.map(lambda row: row[0]).distinct().count()\n",
    "deduplicated_unique_count = final_rdd.map(lambda row: row[0]).distinct().count()\n",
    "print(f\"Unique player_ids in original RDD: {original_unique_count}\")\n",
    "print(f\"Unique player_ids in deduplicated RDD: {deduplicated_unique_count}\")"
   ]
  },
  {
   "cell_type": "markdown",
   "metadata": {},
   "source": [
    "Search a single ID to see if we have duplicates. "
   ]
  },
  {
   "cell_type": "code",
   "execution_count": null,
   "metadata": {},
   "outputs": [
    {
     "name": "stdout",
     "output_type": "stream",
     "text": [
      "['189881', '23', 'C. Smalling', '81', '81', '32', '194', '81', 'CB', '3', '2', '62', '47', '58', '60', '83', '80', '52', '54', '84', '65', '49', '59', '49', '22', '64', '61', '52', '71', '54', '79', '43', '42', '80', '69', '85', '35', '81', '79', '46', '56', '52', '80', '84', '85', '80', '10', '15', '16', '15', '15', '60+3', '60+3', '60+3', '58', '58', '58', '58', '58', '59+3', '59+3', '59+3', '60+3', '63+3', '63+3', '63+3', '60+3', '71+3', '74+3', '74+3', '74+3', '71+3', '73+3', '81', '81', '81', '73+3', '21+3']\n"
     ]
    }
   ],
   "source": [
    "search_player_id = '189881'\n",
    "matching_players = final_rdd.filter(lambda row: row[0] == search_player_id)\n",
    "results = matching_players.collect()\n",
    "for player in results:\n",
    "    print(player)"
   ]
  },
  {
   "cell_type": "markdown",
   "metadata": {},
   "source": [
    "Searching a single name to see if we have duplicates"
   ]
  },
  {
   "cell_type": "code",
   "execution_count": null,
   "metadata": {},
   "outputs": [
    {
     "name": "stdout",
     "output_type": "stream",
     "text": [
      "['184432', '23', 'Azpilicueta', '82', '82', '32', '178', '77', 'RWB', '3', '2', '64', '55', '76', '72', '84', '75', '80', '46', '78', '79', '51', '68', '68', '58', '79', '77', '68', '61', '67', '86', '73', '68', '83', '75', '70', '60', '87', '83', '62', '72', '66', '78', '85', '85', '84', '13', '9', '10', '6', '5', '66+3', '66+3', '66+3', '69', '69', '69', '69', '69', '71+3', '71+3', '71+3', '72+3', '75+3', '75+3', '75+3', '72+3', '79+3', '81+1', '81+1', '81+1', '79+3', '80+2', '81+1', '81+1', '81+1', '80+2', '17+3']\n"
     ]
    }
   ],
   "source": [
    "search_short_name = 'Azpilicueta' \n",
    "matching_players = final_rdd.filter(lambda row: row[2] == search_short_name)\n",
    "results = matching_players.collect()\n",
    "for player in results:\n",
    "    print(player)"
   ]
  },
  {
   "cell_type": "markdown",
   "metadata": {},
   "source": [
    "Adding the values inside a few columns, '80+3' to '83'"
   ]
  },
  {
   "cell_type": "code",
   "execution_count": null,
   "metadata": {},
   "outputs": [],
   "source": [
    "def evaluate_expression(row):\n",
    "    processed_row = []\n",
    "    for element in row:\n",
    "        if '+' in element:\n",
    "            value, increment = element.split('+')\n",
    "            result = int(value) + int(increment)\n",
    "            processed_row.append(str(result))\n",
    "        else:\n",
    "            processed_row.append(element)\n",
    "    return processed_row\n",
    "processed_rdd = final_rdd.map(evaluate_expression)"
   ]
  },
  {
   "cell_type": "code",
   "execution_count": null,
   "metadata": {},
   "outputs": [
    {
     "name": "stdout",
     "output_type": "stream",
     "text": [
      "['239890', '23', 'O. Kabak', '75', '81', '22', '186', '86', 'RCB', '3', '2', '69', '36', '55', '66', '74', '80', '26', '35', '76', '69', '28', '64', '32', '31', '67', '71', '63', '74', '64', '66', '64', '48', '85', '67', '85', '25', '84', '68', '30', '62', '51', '67', '73', '77', '73', '10', '13', '10', '6', '5', '57', '57', '57', '55', '56', '56', '56', '55', '61', '61', '61', '60', '65', '65', '65', '60', '67', '73', '73', '73', '67', '69', '77', '77', '77', '69', '17']\n",
      "['240223', '23', 'M. Ristić', '74', '75', '26', '180', '79', 'SUB', '3', '3', '75', '63', '66', '73', '69', '68', '74', '58', '64', '70', '48', '74', '63', '44', '62', '75', '76', '74', '69', '71', '60', '78', '64', '77', '66', '67', '62', '69', '67', '59', '46', '67', '68', '70', '71', '7', '8', '8', '14', '5', '70', '70', '70', '70', '69', '69', '69', '70', '71', '71', '71', '73', '70', '70', '70', '73', '74', '71', '71', '71', '74', '74', '70', '70', '70', '74', '17']\n",
      "['207753', '23', 'Oh Ban Suk', '68', '68', '34', '190', '81', 'SUB', '3', '2', '34', '24', '39', '50', '70', '73', '26', '21', '70', '48', '30', '45', '29', '28', '36', '57', '34', '34', '53', '55', '34', '34', '76', '54', '85', '16', '65', '72', '22', '43', '35', '64', '68', '73', '67', '9', '10', '12', '14', '7', '43', '43', '43', '39', '40', '40', '40', '39', '44', '44', '44', '43', '49', '49', '49', '43', '56', '62', '62', '62', '56', '59', '68', '68', '68', '59', '17']\n",
      "['244692', '23', 'J. Christensen', '68', '77', '21', '178', '65', 'CDM', '3', '3', '69', '56', '68', '69', '66', '70', '61', '52', '48', '72', '55', '67', '66', '55', '69', '70', '69', '69', '74', '67', '78', '65', '56', '78', '68', '57', '67', '68', '60', '69', '48', '70', '69', '68', '64', '9', '11', '9', '12', '13', '64', '64', '64', '65', '65', '65', '65', '65', '69', '69', '69', '69', '70', '70', '70', '69', '70', '71', '71', '71', '70', '69', '68', '68', '68', '69', '19']\n",
      "['243852', '23', 'B. Motshwari', '67', '67', '31', '172', '66', 'RDM', '3', '3', '76', '58', '66', '69', '55', '67', '57', '54', '55', '73', '54', '68', '55', '53', '74', '68', '74', '77', '68', '65', '83', '64', '67', '70', '68', '58', '59', '57', '61', '64', '61', '68', '50', '58', '61', '12', '6', '11', '10', '11', '65', '65', '65', '66', '65', '65', '65', '66', '67', '67', '67', '67', '67', '67', '67', '67', '66', '66', '66', '66', '66', '65', '62', '62', '62', '65', '18']\n"
     ]
    }
   ],
   "source": [
    "for row in processed_rdd.take(5):\n",
    "    print(row)"
   ]
  },
  {
   "cell_type": "markdown",
   "metadata": {},
   "source": [
    "#### lowercase the club position"
   ]
  },
  {
   "cell_type": "code",
   "execution_count": null,
   "metadata": {},
   "outputs": [],
   "source": [
    "updated_rdd = processed_rdd.map(lambda row: row[:8] + [row[8].lower()] + row[9:])"
   ]
  },
  {
   "cell_type": "code",
   "execution_count": null,
   "metadata": {},
   "outputs": [
    {
     "name": "stdout",
     "output_type": "stream",
     "text": [
      "['239890', '23', 'O. Kabak', '75', '81', '22', '186', '86', 'rcb', '3', '2', '69', '36', '55', '66', '74', '80', '26', '35', '76', '69', '28', '64', '32', '31', '67', '71', '63', '74', '64', '66', '64', '48', '85', '67', '85', '25', '84', '68', '30', '62', '51', '67', '73', '77', '73', '10', '13', '10', '6', '5', '57', '57', '57', '55', '56', '56', '56', '55', '61', '61', '61', '60', '65', '65', '65', '60', '67', '73', '73', '73', '67', '69', '77', '77', '77', '69', '17']\n",
      "['240223', '23', 'M. Ristić', '74', '75', '26', '180', '79', 'sub', '3', '3', '75', '63', '66', '73', '69', '68', '74', '58', '64', '70', '48', '74', '63', '44', '62', '75', '76', '74', '69', '71', '60', '78', '64', '77', '66', '67', '62', '69', '67', '59', '46', '67', '68', '70', '71', '7', '8', '8', '14', '5', '70', '70', '70', '70', '69', '69', '69', '70', '71', '71', '71', '73', '70', '70', '70', '73', '74', '71', '71', '71', '74', '74', '70', '70', '70', '74', '17']\n",
      "['207753', '23', 'Oh Ban Suk', '68', '68', '34', '190', '81', 'sub', '3', '2', '34', '24', '39', '50', '70', '73', '26', '21', '70', '48', '30', '45', '29', '28', '36', '57', '34', '34', '53', '55', '34', '34', '76', '54', '85', '16', '65', '72', '22', '43', '35', '64', '68', '73', '67', '9', '10', '12', '14', '7', '43', '43', '43', '39', '40', '40', '40', '39', '44', '44', '44', '43', '49', '49', '49', '43', '56', '62', '62', '62', '56', '59', '68', '68', '68', '59', '17']\n",
      "['244692', '23', 'J. Christensen', '68', '77', '21', '178', '65', 'cdm', '3', '3', '69', '56', '68', '69', '66', '70', '61', '52', '48', '72', '55', '67', '66', '55', '69', '70', '69', '69', '74', '67', '78', '65', '56', '78', '68', '57', '67', '68', '60', '69', '48', '70', '69', '68', '64', '9', '11', '9', '12', '13', '64', '64', '64', '65', '65', '65', '65', '65', '69', '69', '69', '69', '70', '70', '70', '69', '70', '71', '71', '71', '70', '69', '68', '68', '68', '69', '19']\n",
      "['243852', '23', 'B. Motshwari', '67', '67', '31', '172', '66', 'rdm', '3', '3', '76', '58', '66', '69', '55', '67', '57', '54', '55', '73', '54', '68', '55', '53', '74', '68', '74', '77', '68', '65', '83', '64', '67', '70', '68', '58', '59', '57', '61', '64', '61', '68', '50', '58', '61', '12', '6', '11', '10', '11', '65', '65', '65', '66', '65', '65', '65', '66', '67', '67', '67', '67', '67', '67', '67', '67', '66', '66', '66', '66', '66', '65', '62', '62', '62', '65', '18']\n"
     ]
    }
   ],
   "source": [
    "for row in updated_rdd.take(5):\n",
    "    print(row)"
   ]
  },
  {
   "cell_type": "code",
   "execution_count": null,
   "metadata": {},
   "outputs": [
    {
     "data": {
      "text/plain": [
       "20621"
      ]
     },
     "execution_count": 148,
     "metadata": {},
     "output_type": "execute_result"
    }
   ],
   "source": [
    "updated_rdd.count()"
   ]
  },
  {
   "cell_type": "code",
   "execution_count": null,
   "metadata": {},
   "outputs": [],
   "source": [
    "def safe_int_conversion(value):\n",
    "    try:\n",
    "        return int(value)\n",
    "    except (ValueError, TypeError):\n",
    "        return None \n",
    "\n",
    "def convert_row(row):\n",
    "    return (\n",
    "        safe_int_conversion(row[0]),  # player_id\n",
    "        safe_int_conversion(row[1]),  # fifa_version\n",
    "        row[2],                       # short_name\n",
    "        safe_int_conversion(row[3]),  # overall\n",
    "        safe_int_conversion(row[4]),  # potential\n",
    "        safe_int_conversion(row[5]),  # age\n",
    "        safe_int_conversion(row[6]),  # height_cm\n",
    "        safe_int_conversion(row[7]),  # weight_kg\n",
    "        row[8],                       # club_position\n",
    "        safe_int_conversion(row[9]),  # weak_foot\n",
    "        safe_int_conversion(row[10]), # skill_moves\n",
    "        safe_int_conversion(row[11]), # pace\n",
    "        safe_int_conversion(row[12]), # shooting\n",
    "        safe_int_conversion(row[13]), # passing\n",
    "        safe_int_conversion(row[14]), # dribbling\n",
    "        safe_int_conversion(row[15]), # defending\n",
    "        safe_int_conversion(row[16]), # physic\n",
    "        safe_int_conversion(row[17]), # attacking_crossing\n",
    "        safe_int_conversion(row[18]), # attacking_finishing\n",
    "        safe_int_conversion(row[19]), # attacking_heading_accuracy\n",
    "        safe_int_conversion(row[20]), # attacking_short_passing\n",
    "        safe_int_conversion(row[21]), # attacking_volleys\n",
    "        safe_int_conversion(row[22]), # skill_dribbling\n",
    "        safe_int_conversion(row[23]), # skill_curve\n",
    "        safe_int_conversion(row[24]), # skill_fk_accuracy\n",
    "        safe_int_conversion(row[25]), # skill_long_passing\n",
    "        safe_int_conversion(row[26]), # skill_ball_control\n",
    "        safe_int_conversion(row[27]), # movement_acceleration\n",
    "        safe_int_conversion(row[28]), # movement_sprint_speed\n",
    "        safe_int_conversion(row[29]), # movement_agility\n",
    "        safe_int_conversion(row[30]), # movement_reactions\n",
    "        safe_int_conversion(row[31]), # movement_balance\n",
    "        safe_int_conversion(row[32]), # power_shot_power\n",
    "        safe_int_conversion(row[33]), # power_jumping\n",
    "        safe_int_conversion(row[34]), # power_stamina\n",
    "        safe_int_conversion(row[35]), # power_strength\n",
    "        safe_int_conversion(row[36]), # power_long_shots\n",
    "        safe_int_conversion(row[37]), # mentality_aggression\n",
    "        safe_int_conversion(row[38]), # mentality_interceptions\n",
    "        safe_int_conversion(row[39]), # mentality_positioning\n",
    "        safe_int_conversion(row[40]), # mentality_vision\n",
    "        safe_int_conversion(row[41]), # mentality_penalties\n",
    "        safe_int_conversion(row[42]), # mentality_composure\n",
    "        safe_int_conversion(row[43]), # defending_marking_awareness\n",
    "        safe_int_conversion(row[44]), # defending_standing_tackle\n",
    "        safe_int_conversion(row[45]), # defending_sliding_tackle\n",
    "        safe_int_conversion(row[46]), # goalkeeping_diving\n",
    "        safe_int_conversion(row[47]), # goalkeeping_handling\n",
    "        safe_int_conversion(row[48]), # goalkeeping_kicking\n",
    "        safe_int_conversion(row[49]), # goalkeeping_positioning\n",
    "        safe_int_conversion(row[50]), # goalkeeping_reflexes\n",
    "        safe_int_conversion(row[51]), # ls\n",
    "        safe_int_conversion(row[52]), # st\n",
    "        safe_int_conversion(row[53]), # rs\n",
    "        safe_int_conversion(row[54]), # lw\n",
    "        safe_int_conversion(row[55]), # lf\n",
    "        safe_int_conversion(row[56]), # cf\n",
    "        safe_int_conversion(row[57]), # rf\n",
    "        safe_int_conversion(row[58]), # rw\n",
    "        safe_int_conversion(row[59]), # lam\n",
    "        safe_int_conversion(row[60]), # cam\n",
    "        safe_int_conversion(row[61]), # ram\n",
    "        safe_int_conversion(row[62]), # lm\n",
    "        safe_int_conversion(row[63]), # lcm\n",
    "        safe_int_conversion(row[64]), # cm\n",
    "        safe_int_conversion(row[65]), # rcm\n",
    "        safe_int_conversion(row[66]), # rm\n",
    "        safe_int_conversion(row[67]), # lwb\n",
    "        safe_int_conversion(row[68]), # ldm\n",
    "        safe_int_conversion(row[69]), # cdm\n",
    "        safe_int_conversion(row[70]), # rdm\n",
    "        safe_int_conversion(row[71]), # rwb\n",
    "        safe_int_conversion(row[72]), # lb\n",
    "        safe_int_conversion(row[73]), # lcb\n",
    "        safe_int_conversion(row[74]), # cb\n",
    "        safe_int_conversion(row[75]), # rcb\n",
    "        safe_int_conversion(row[76]), # rb\n",
    "        safe_int_conversion(row[77])  # gk\n",
    "    )\n",
    "\n",
    "cl_rdd = updated_rdd.map(convert_row)\n",
    "# cl_rdd = c_rdd.filter(lambda row: None not in row)"
   ]
  },
  {
   "cell_type": "markdown",
   "metadata": {},
   "source": [
    "Defining Schema"
   ]
  },
  {
   "cell_type": "code",
   "execution_count": null,
   "metadata": {},
   "outputs": [],
   "source": [
    "from pyspark.sql.types import StructType, StructField, IntegerType, StringType\n",
    "\n",
    "schema = StructType([\n",
    "    StructField(\"player_id\", IntegerType(), True),\n",
    "    StructField(\"fifa_version\", IntegerType(), True),\n",
    "    StructField(\"short_name\", StringType(), True),\n",
    "    StructField(\"overall\", IntegerType(), True),\n",
    "    StructField(\"potential\", IntegerType(), True),\n",
    "    StructField(\"age\", IntegerType(), True),\n",
    "    StructField(\"height_cm\", IntegerType(), True),\n",
    "    StructField(\"weight_kg\", IntegerType(), True),\n",
    "    StructField(\"club_position\", StringType(), True),\n",
    "    StructField(\"weak_foot\", IntegerType(), True),\n",
    "    StructField(\"skill_moves\", IntegerType(), True),\n",
    "    StructField(\"pace\", IntegerType(), True),\n",
    "    StructField(\"shooting\", IntegerType(), True),\n",
    "    StructField(\"passing\", IntegerType(), True),\n",
    "    StructField(\"dribbling\", IntegerType(), True),\n",
    "    StructField(\"defending\", IntegerType(), True),\n",
    "    StructField(\"physic\", IntegerType(), True),\n",
    "    StructField(\"attacking_crossing\", IntegerType(), True),\n",
    "    StructField(\"attacking_finishing\", IntegerType(), True),\n",
    "    StructField(\"attacking_heading_accuracy\", IntegerType(), True),\n",
    "    StructField(\"attacking_short_passing\", IntegerType(), True),\n",
    "    StructField(\"attacking_volleys\", IntegerType(), True),\n",
    "    StructField(\"skill_dribbling\", IntegerType(), True),\n",
    "    StructField(\"skill_curve\", IntegerType(), True),\n",
    "    StructField(\"skill_fk_accuracy\", IntegerType(), True),\n",
    "    StructField(\"skill_long_passing\", IntegerType(), True),\n",
    "    StructField(\"skill_ball_control\", IntegerType(), True),\n",
    "    StructField(\"movement_acceleration\", IntegerType(), True),\n",
    "    StructField(\"movement_sprint_speed\", IntegerType(), True),\n",
    "    StructField(\"movement_agility\", IntegerType(), True),\n",
    "    StructField(\"movement_reactions\", IntegerType(), True),\n",
    "    StructField(\"movement_balance\", IntegerType(), True),\n",
    "    StructField(\"power_shot_power\", IntegerType(), True),\n",
    "    StructField(\"power_jumping\", IntegerType(), True),\n",
    "    StructField(\"power_stamina\", IntegerType(), True),\n",
    "    StructField(\"power_strength\", IntegerType(), True),\n",
    "    StructField(\"power_long_shots\", IntegerType(), True),\n",
    "    StructField(\"mentality_aggression\", IntegerType(), True),\n",
    "    StructField(\"mentality_interceptions\", IntegerType(), True),\n",
    "    StructField(\"mentality_positioning\", IntegerType(), True),\n",
    "    StructField(\"mentality_vision\", IntegerType(), True),\n",
    "    StructField(\"mentality_penalties\", IntegerType(), True),\n",
    "    StructField(\"mentality_composure\", IntegerType(), True),\n",
    "    StructField(\"defending_marking_awareness\", IntegerType(), True),\n",
    "    StructField(\"defending_standing_tackle\", IntegerType(), True),\n",
    "    StructField(\"defending_sliding_tackle\", IntegerType(), True),\n",
    "    StructField(\"goalkeeping_diving\", IntegerType(), True),\n",
    "    StructField(\"goalkeeping_handling\", IntegerType(), True),\n",
    "    StructField(\"goalkeeping_kicking\", IntegerType(), True),\n",
    "    StructField(\"goalkeeping_positioning\", IntegerType(), True),\n",
    "    StructField(\"goalkeeping_reflexes\", IntegerType(), True),\n",
    "    StructField(\"ls\", IntegerType(), True),\n",
    "    StructField(\"st\", IntegerType(), True),\n",
    "    StructField(\"rs\", IntegerType(), True),\n",
    "    StructField(\"lw\", IntegerType(), True),\n",
    "    StructField(\"lf\", IntegerType(), True),\n",
    "    StructField(\"cf\", IntegerType(), True),\n",
    "    StructField(\"rf\", IntegerType(), True),\n",
    "    StructField(\"rw\", IntegerType(), True),\n",
    "    StructField(\"lam\", IntegerType(), True),\n",
    "    StructField(\"cam\", IntegerType(), True),\n",
    "    StructField(\"ram\", IntegerType(), True),\n",
    "    StructField(\"lm\", IntegerType(), True),\n",
    "    StructField(\"lcm\", IntegerType(), True),\n",
    "    StructField(\"cm\", IntegerType(), True),\n",
    "    StructField(\"rcm\", IntegerType(), True),\n",
    "    StructField(\"rm\", IntegerType(), True),\n",
    "    StructField(\"lwb\", IntegerType(), True),\n",
    "    StructField(\"ldm\", IntegerType(), True),\n",
    "    StructField(\"cdm\", IntegerType(), True),\n",
    "    StructField(\"rdm\", IntegerType(), True),\n",
    "    StructField(\"rwb\", IntegerType(), True),\n",
    "    StructField(\"lb\", IntegerType(), True),\n",
    "    StructField(\"lcb\", IntegerType(), True),\n",
    "    StructField(\"cb\", IntegerType(), True),\n",
    "    StructField(\"rcb\", IntegerType(), True),\n",
    "    StructField(\"rb\", IntegerType(), True),\n",
    "    StructField(\"gk\", IntegerType(), True)\n",
    "])\n"
   ]
  },
  {
   "cell_type": "code",
   "execution_count": null,
   "metadata": {},
   "outputs": [],
   "source": [
    "# defenderCentralBack = dfVersion_23.filter((col(\"player_positions\") == \"cb\")& (col(\"potential\").cast(IntegerType()) > 85)  )\n",
    "# defenderCentralBack.show()"
   ]
  },
  {
   "cell_type": "code",
   "execution_count": null,
   "metadata": {},
   "outputs": [],
   "source": [
    "# DefenderRightCentralBack  = dfVersion_23.filter((col(\"club_position\") == \"RCB\")& (col(\"potential\").cast(IntegerType()) > 90) & (col(\"age\").cast(IntegerType()) < 30))\n",
    "# DefenderRightCentralBack.show()"
   ]
  },
  {
   "cell_type": "markdown",
   "metadata": {},
   "source": [
    "Creating a dataframe from cleaned data"
   ]
  },
  {
   "cell_type": "code",
   "execution_count": null,
   "metadata": {},
   "outputs": [],
   "source": [
    "df = spark.createDataFrame(cl_rdd,schema)"
   ]
  },
  {
   "cell_type": "code",
   "execution_count": null,
   "metadata": {},
   "outputs": [
    {
     "data": {
      "text/plain": [
       "' df.repartition(10) '"
      ]
     },
     "execution_count": 154,
     "metadata": {},
     "output_type": "execute_result"
    }
   ],
   "source": [
    "\"\"\" df.repartition(10) \"\"\""
   ]
  },
  {
   "cell_type": "code",
   "execution_count": null,
   "metadata": {},
   "outputs": [
    {
     "name": "stderr",
     "output_type": "stream",
     "text": [
      "[Stage 23:>                                                         (0 + 1) / 1]\r"
     ]
    },
    {
     "name": "stdout",
     "output_type": "stream",
     "text": [
      "+---------+------------+-------------+-------+---------+---+---------+---------+-------------+---------+-----------+----+--------+-------+---------+---------+------+------------------+-------------------+--------------------------+-----------------------+-----------------+---------------+-----------+-----------------+------------------+------------------+---------------------+---------------------+----------------+------------------+----------------+----------------+-------------+-------------+--------------+----------------+--------------------+-----------------------+---------------------+----------------+-------------------+-------------------+---------------------------+-------------------------+------------------------+------------------+--------------------+-------------------+-----------------------+--------------------+---+---+---+---+---+---+---+---+---+---+---+---+---+---+---+---+---+---+---+---+---+---+---+---+---+---+---+\n",
      "|player_id|fifa_version|   short_name|overall|potential|age|height_cm|weight_kg|club_position|weak_foot|skill_moves|pace|shooting|passing|dribbling|defending|physic|attacking_crossing|attacking_finishing|attacking_heading_accuracy|attacking_short_passing|attacking_volleys|skill_dribbling|skill_curve|skill_fk_accuracy|skill_long_passing|skill_ball_control|movement_acceleration|movement_sprint_speed|movement_agility|movement_reactions|movement_balance|power_shot_power|power_jumping|power_stamina|power_strength|power_long_shots|mentality_aggression|mentality_interceptions|mentality_positioning|mentality_vision|mentality_penalties|mentality_composure|defending_marking_awareness|defending_standing_tackle|defending_sliding_tackle|goalkeeping_diving|goalkeeping_handling|goalkeeping_kicking|goalkeeping_positioning|goalkeeping_reflexes| ls| st| rs| lw| lf| cf| rf| rw|lam|cam|ram| lm|lcm| cm|rcm| rm|lwb|ldm|cdm|rdm|rwb| lb|lcb| cb|rcb| rb| gk|\n",
      "+---------+------------+-------------+-------+---------+---+---------+---------+-------------+---------+-----------+----+--------+-------+---------+---------+------+------------------+-------------------+--------------------------+-----------------------+-----------------+---------------+-----------+-----------------+------------------+------------------+---------------------+---------------------+----------------+------------------+----------------+----------------+-------------+-------------+--------------+----------------+--------------------+-----------------------+---------------------+----------------+-------------------+-------------------+---------------------------+-------------------------+------------------------+------------------+--------------------+-------------------+-----------------------+--------------------+---+---+---+---+---+---+---+---+---+---+---+---+---+---+---+---+---+---+---+---+---+---+---+---+---+---+---+\n",
      "|   193141|          23|    I. Pillud|     69|       69| 36|      178|       82|           rb|        2|          2|  63|      58|     65|       62|       69|    74|                70|                 50|                        59|                     67|               54|             62|         80|               53|                63|                65|                   61|                   64|              59|                70|              56|              72|           77|           64|            78|              60|                  75|                     71|                   64|              57|                 62|                 56|                         70|                       70|                      65|                16|                  14|                  7|                     11|                   7| 65| 65| 65| 63| 63| 63| 63| 63| 64| 64| 64| 66| 66| 66| 66| 66| 69| 69| 69| 69| 69| 69| 69| 69| 69| 69| 20|\n",
      "|   242503|          23|E. Williamson|     69|       74| 25|      175|       70|          sub|        3|          3|  70|      57|     67|       71|       63|    69|                63|                 60|                        50|                     71|               50|             71|         63|               48|                69|                70|                   71|                   70|              72|                70|              79|              65|           57|           76|            69|              45|                  63|                     66|                   69|              70|                 48|                 70|                         64|                       64|                      61|                 5|                   8|                 10|                      9|                  10| 67| 67| 67| 68| 67| 67| 67| 68| 70| 70| 70| 71| 71| 71| 71| 71| 70| 70| 70| 70| 70| 68| 66| 66| 66| 68| 17|\n",
      "|   271437|          23|  G. Diomandé|     56|       69| 19|      180|       70|          sub|        3|          2|  71|      52|     50|       59|       28|    51|                53|                 53|                        38|                     52|               46|             60|         43|               45|                43|                56|                   73|                   70|              71|                38|              69|              55|           72|           43|            58|              48|                  39|                     24|                   51|              53|                 54|                 52|                         26|                       30|                      28|                 7|                  14|                 15|                      6|                  14| 55| 55| 55| 56| 54| 54| 54| 56| 56| 56| 56| 57| 50| 50| 50| 57| 45| 42| 42| 42| 45| 43| 39| 39| 39| 43| 16|\n",
      "|   259521|          23|      Terrats|     68|       78| 21|      181|       71|          sub|        3|          2|  55|      44|     63|       63|       66|    69|                50|                 35|                        61|                     72|               40|             60|         50|               47|                69|                68|                   54|                   55|              63|                65|              60|              63|           61|           65|            73|              45|                  65|                     60|                   51|              65|                 45|                 55|                         64|                       71|                      69|                 8|                   9|                  5|                     14|                  11| 58| 58| 58| 57| 58| 58| 58| 57| 63| 63| 63| 62| 67| 67| 67| 62| 65| 69| 69| 69| 65| 65| 68| 68| 68| 65| 18|\n",
      "|   242751|          23|    H. Carter|     66|       76| 22|      188|       67|          res|        3|          2|  71|      40|     55|       60|       65|    75|                55|                 28|                        63|                     62|               32|             56|         36|               32|                60|                62|                   68|                   74|              67|                61|              60|              60|           77|           75|            79|              45|                  62|                     63|                   55|              50|                 32|                 59|                         65|                       67|                      66|                14|                   8|                 13|                      8|                   7| 57| 57| 57| 56| 56| 56| 56| 56| 58| 58| 58| 61| 61| 61| 61| 61| 66| 66| 66| 66| 66| 67| 68| 68| 68| 67| 17|\n",
      "+---------+------------+-------------+-------+---------+---+---------+---------+-------------+---------+-----------+----+--------+-------+---------+---------+------+------------------+-------------------+--------------------------+-----------------------+-----------------+---------------+-----------+-----------------+------------------+------------------+---------------------+---------------------+----------------+------------------+----------------+----------------+-------------+-------------+--------------+----------------+--------------------+-----------------------+---------------------+----------------+-------------------+-------------------+---------------------------+-------------------------+------------------------+------------------+--------------------+-------------------+-----------------------+--------------------+---+---+---+---+---+---+---+---+---+---+---+---+---+---+---+---+---+---+---+---+---+---+---+---+---+---+---+\n",
      "only showing top 5 rows\n",
      "\n"
     ]
    },
    {
     "name": "stderr",
     "output_type": "stream",
     "text": [
      "                                                                                \r"
     ]
    }
   ],
   "source": [
    "df.show(5)"
   ]
  },
  {
   "cell_type": "code",
   "execution_count": null,
   "metadata": {},
   "outputs": [],
   "source": [
    "#goolKeeper = cleaned_rdd.filter((col(\"club_position\") == \"CF\") & (col(\"potential\") > 90) & (col(\"age\") < 30) &(col('goalkeeping_reflexes') > 89) & (col(\"height_cm\") > 195))\n",
    "#goolKeeper.show()"
   ]
  },
  {
   "cell_type": "markdown",
   "metadata": {},
   "source": [
    "saving data"
   ]
  },
  {
   "cell_type": "code",
   "execution_count": null,
   "metadata": {},
   "outputs": [
    {
     "data": {
      "text/plain": [
       "\" df.repartition(1).write.parquet('/eaplayer_data/male_players_version_23.parquet', mode='overwrite') \""
      ]
     },
     "execution_count": 157,
     "metadata": {},
     "output_type": "execute_result"
    }
   ],
   "source": [
    "\"\"\" df.repartition(1).write.parquet('/eaplayer_data/male_players_version_23.parquet', mode='overwrite') \"\"\""
   ]
  },
  {
   "cell_type": "code",
   "execution_count": null,
   "metadata": {},
   "outputs": [
    {
     "name": "stderr",
     "output_type": "stream",
     "text": [
      "                                                                                \r"
     ]
    }
   ],
   "source": [
    "\"\"\" df.repartition(1).write.parquet('/eaplayer_data/male_players1.parquet', mode='overwrite') \"\"\""
   ]
  },
  {
   "cell_type": "code",
   "execution_count": null,
   "metadata": {},
   "outputs": [],
   "source": [
    "spark.stop()"
   ]
  },
  {
   "cell_type": "markdown",
   "metadata": {},
   "source": [
    "# following code might be usefull for debugging"
   ]
  },
  {
   "cell_type": "markdown",
   "metadata": {},
   "source": [
    "### Checking if players have copies (just saw a 29 year old messi)"
   ]
  },
  {
   "cell_type": "code",
   "execution_count": null,
   "metadata": {},
   "outputs": [
    {
     "data": {
      "text/plain": [
       "' threshold = 90\\ntotal_players = df.count()\\nover_threshold_count = df.filter(col(\"short_name\") == \"L. Messi\")\\nover_threshold_count.take(5) '"
      ]
     },
     "execution_count": 160,
     "metadata": {},
     "output_type": "execute_result"
    }
   ],
   "source": [
    "\"\"\" threshold = 90\n",
    "total_players = df.count()\n",
    "over_threshold_count = df.filter(col(\"short_name\") == \"L. Messi\")\n",
    "over_threshold_count.take(5) \"\"\""
   ]
  },
  {
   "cell_type": "markdown",
   "metadata": {},
   "source": [
    "### Checking how many players are over a certian criteria "
   ]
  },
  {
   "cell_type": "code",
   "execution_count": null,
   "metadata": {},
   "outputs": [
    {
     "data": {
      "text/plain": [
       "' threshold = 90\\ntotal_players = df.count()\\nover_threshold_count = df.filter(col(\"potential\").cast(IntegerType()) > threshold)\\nover_threshold_count.show() '"
      ]
     },
     "execution_count": 161,
     "metadata": {},
     "output_type": "execute_result"
    }
   ],
   "source": [
    "\"\"\" threshold = 90\n",
    "total_players = df.count()\n",
    "over_threshold_count = df.filter(col(\"potential\").cast(IntegerType()) > threshold)\n",
    "over_threshold_count.show() \"\"\""
   ]
  }
 ],
 "metadata": {
  "kernelspec": {
   "display_name": "Python 3",
   "language": "python",
   "name": "python3"
  },
  "language_info": {
   "codemirror_mode": {
    "name": "ipython",
    "version": 3
   },
   "file_extension": ".py",
   "mimetype": "text/x-python",
   "name": "python",
   "nbconvert_exporter": "python",
   "pygments_lexer": "ipython3",
   "version": "3.8.10"
  }
 },
 "nbformat": 4,
 "nbformat_minor": 2
}

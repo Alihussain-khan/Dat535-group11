{
 "cells": [
  {
   "cell_type": "markdown",
   "metadata": {},
   "source": [
    "### Trying to converti the csv using rdd"
   ]
  },
  {
   "cell_type": "code",
   "execution_count": 23,
   "metadata": {},
   "outputs": [],
   "source": [
    "from pyspark.sql import SparkSession"
   ]
  },
  {
   "cell_type": "code",
   "execution_count": 24,
   "metadata": {},
   "outputs": [],
   "source": [
    "spark = SparkSession.builder \\\n",
    "    .appName(\"Structure datasett and convert to csv\") \\\n",
    "    .getOrCreate()"
   ]
  },
  {
   "cell_type": "code",
   "execution_count": 25,
   "metadata": {},
   "outputs": [],
   "source": [
    "csv_path = \"hdfs:///eaplayer_data/male_players.csv\""
   ]
  },
  {
   "cell_type": "code",
   "execution_count": 26,
   "metadata": {},
   "outputs": [
    {
     "name": "stderr",
     "output_type": "stream",
     "text": [
      "                                                                                \r"
     ]
    }
   ],
   "source": [
    "df = spark.read.option(\"header\", \"true\").csv(csv_path)"
   ]
  },
  {
   "cell_type": "code",
   "execution_count": 27,
   "metadata": {},
   "outputs": [
    {
     "name": "stderr",
     "output_type": "stream",
     "text": [
      "                                                                                \r"
     ]
    },
    {
     "data": {
      "text/plain": [
       "[Row(player_id='158023', player_url='/player/158023/lionel-messi/230009', fifa_version='23', fifa_update='9', fifa_update_date='2023-01-13', short_name='L. Messi', long_name='Lionel Andrés Messi Cuccittini', player_positions='RW', overall='91', potential='91', value_eur='54000000', wage_eur='195000', age='35', dob='1987-06-24', height_cm='169', weight_kg='67', league_id='16', league_name='Ligue 1', league_level='1', club_team_id='73', club_name='Paris Saint Germain', club_position='RS', club_jersey_number='30', club_loaned_from=None, club_joined_date='2021-08-10', club_contract_valid_until_year='2023', nationality_id='52', nationality_name='Argentina', nation_team_id='1369', nation_position='RW', nation_jersey_number='10', preferred_foot='Left', weak_foot='4', skill_moves='4', international_reputation='5', work_rate='Low/Low', body_type='Unique', real_face='Yes', release_clause_eur='99900000', player_tags='#Dribbler, #Distance Shooter, #FK Specialist, #Acrobat, #Clinical Finisher, #Complete Forward', player_traits='Finesse Shot, Long Shot Taker (AI), Playmaker (AI), Outside Foot Shot, Chip Shot (AI), Technical Dribbler (AI)', pace='81', shooting='89', passing='90', dribbling='94', defending='34', physic='64', attacking_crossing='84', attacking_finishing='90', attacking_heading_accuracy='70', attacking_short_passing='91', attacking_volleys='88', skill_dribbling='95', skill_curve='93', skill_fk_accuracy='93', skill_long_passing='90', skill_ball_control='93', movement_acceleration='87', movement_sprint_speed='76', movement_agility='91', movement_reactions='92', movement_balance='95', power_shot_power='86', power_jumping='68', power_stamina='70', power_strength='68', power_long_shots='91', mentality_aggression='44', mentality_interceptions='40', mentality_positioning='93', mentality_vision='94', mentality_penalties='75', mentality_composure='96', defending_marking_awareness='20', defending_standing_tackle='35', defending_sliding_tackle='24', goalkeeping_diving='6', goalkeeping_handling='11', goalkeeping_kicking='15', goalkeeping_positioning='14', goalkeeping_reflexes='8', goalkeeping_speed=None, ls='87+3', st='87+3', rs='87+3', lw='90', lf='91', cf='91', rf='91', rw='90', lam='92-1', cam='92-1', ram='92-1', lm='89+2', lcm='85+3', cm='85+3', rcm='85+3', rm='89+2', lwb='64+3', ldm='63+3', cdm='63+3', rdm='63+3', rwb='64+3', lb='59+3', lcb='50+3', cb='50+3', rcb='50+3', rb='59+3', gk='19+3', player_face_url='https://cdn.sofifa.net/players/158/023/23_120.png'),\n",
       " Row(player_id='165153', player_url='/player/165153/karim-benzema/230009', fifa_version='23', fifa_update='9', fifa_update_date='2023-01-13', short_name='K. Benzema', long_name='Karim Benzema', player_positions='CF, ST', overall='91', potential='91', value_eur='64000000', wage_eur='450000', age='34', dob='1987-12-19', height_cm='185', weight_kg='81', league_id='53', league_name='La Liga', league_level='1', club_team_id='243', club_name='Real Madrid', club_position='CF', club_jersey_number='9', club_loaned_from=None, club_joined_date='2009-07-09', club_contract_valid_until_year='2023', nationality_id='18', nationality_name='France', nation_team_id=None, nation_position=None, nation_jersey_number=None, preferred_foot='Right', weak_foot='4', skill_moves='4', international_reputation='4', work_rate='Medium/Medium', body_type='Normal (170-185)', real_face='Yes', release_clause_eur='131200000', player_tags='#Poacher, #Clinical Finisher', player_traits='Leadership, Finesse Shot, Playmaker (AI), Outside Foot Shot, Team Player', pace='80', shooting='88', passing='83', dribbling='87', defending='39', physic='78', attacking_crossing='75', attacking_finishing='92', attacking_heading_accuracy='90', attacking_short_passing='89', attacking_volleys='88', skill_dribbling='87', skill_curve='82', skill_fk_accuracy='73', skill_long_passing='76', skill_ball_control='91', movement_acceleration='79', movement_sprint_speed='80', movement_agility='78', movement_reactions='92', movement_balance='72', power_shot_power='87', power_jumping='79', power_stamina='82', power_strength='82', power_long_shots='80', mentality_aggression='63', mentality_interceptions='39', mentality_positioning='92', mentality_vision='89', mentality_penalties='84', mentality_composure='90', defending_marking_awareness='43', defending_standing_tackle='24', defending_sliding_tackle='18', goalkeeping_diving='13', goalkeeping_handling='11', goalkeeping_kicking='5', goalkeeping_positioning='5', goalkeeping_reflexes='7', goalkeeping_speed=None, ls='89+2', st='89+2', rs='89+2', lw='87', lf='89', cf='89', rf='89', rw='87', lam='88+3', cam='88+3', ram='88+3', lm='86+3', lcm='81+3', cm='81+3', rcm='81+3', rm='86+3', lwb='64+3', ldm='64+3', cdm='64+3', rdm='64+3', rwb='64+3', lb='60+3', lcb='55+3', cb='55+3', rcb='55+3', rb='60+3', gk='18+3', player_face_url='https://cdn.sofifa.net/players/165/153/23_120.png')]"
      ]
     },
     "execution_count": 27,
     "metadata": {},
     "output_type": "execute_result"
    }
   ],
   "source": [
    "df.take(2)"
   ]
  },
  {
   "cell_type": "markdown",
   "metadata": {},
   "source": [
    "### Checking for 'none' values. (Debugging after i found them while cleaning.)\n",
    "- turns out every single one row has a none value"
   ]
  },
  {
   "cell_type": "code",
   "execution_count": 28,
   "metadata": {},
   "outputs": [
    {
     "name": "stderr",
     "output_type": "stream",
     "text": [
      "                                                                                \r"
     ]
    },
    {
     "data": {
      "text/plain": [
       "10003590"
      ]
     },
     "execution_count": 28,
     "metadata": {},
     "output_type": "execute_result"
    }
   ],
   "source": [
    "rows_with_none_count = df.filter(\n",
    "    \" OR \".join([f\"({c} IS NULL OR {c} = '' OR isnan({c}))\" for c in df.columns])\n",
    ").count()\n",
    "rows_with_none_count"
   ]
  },
  {
   "cell_type": "code",
   "execution_count": 29,
   "metadata": {},
   "outputs": [
    {
     "data": {
      "text/plain": [
       "'player_id,player_url,fifa_version,fifa_update,fifa_update_date,short_name,long_name,player_positions,overall,potential,value_eur,wage_eur,age,dob,height_cm,weight_kg,league_id,league_name,league_level,club_team_id,club_name,club_position,club_jersey_number,club_loaned_from,club_joined_date,club_contract_valid_until_year,nationality_id,nationality_name,nation_team_id,nation_position,nation_jersey_number,preferred_foot,weak_foot,skill_moves,international_reputation,work_rate,body_type,real_face,release_clause_eur,player_tags,player_traits,pace,shooting,passing,dribbling,defending,physic,attacking_crossing,attacking_finishing,attacking_heading_accuracy,attacking_short_passing,attacking_volleys,skill_dribbling,skill_curve,skill_fk_accuracy,skill_long_passing,skill_ball_control,movement_acceleration,movement_sprint_speed,movement_agility,movement_reactions,movement_balance,power_shot_power,power_jumping,power_stamina,power_strength,power_long_shots,mentality_aggression,mentality_interceptions,mentality_positioning,mentality_vision,mentality_penalties,mentality_composure,defending_marking_awareness,defending_standing_tackle,defending_sliding_tackle,goalkeeping_diving,goalkeeping_handling,goalkeeping_kicking,goalkeeping_positioning,goalkeeping_reflexes,goalkeeping_speed,ls,st,rs,lw,lf,cf,rf,rw,lam,cam,ram,lm,lcm,cm,rcm,rm,lwb,ldm,cdm,rdm,rwb,lb,lcb,cb,rcb,rb,gk,player_face_url'"
      ]
     },
     "execution_count": 29,
     "metadata": {},
     "output_type": "execute_result"
    }
   ],
   "source": [
    "header = \",\".join(df.columns)\n",
    "header"
   ]
  },
  {
   "cell_type": "markdown",
   "metadata": {},
   "source": [
    "Converting each row of the DataFrame into a Spark Row object within an RDD."
   ]
  },
  {
   "cell_type": "code",
   "execution_count": 30,
   "metadata": {},
   "outputs": [],
   "source": [
    "rdd = df.rdd"
   ]
  },
  {
   "cell_type": "code",
   "execution_count": 31,
   "metadata": {},
   "outputs": [
    {
     "name": "stderr",
     "output_type": "stream",
     "text": [
      "                                                                                \r"
     ]
    },
    {
     "data": {
      "text/plain": [
       "Row(player_id='158023', player_url='/player/158023/lionel-messi/230009', fifa_version='23', fifa_update='9', fifa_update_date='2023-01-13', short_name='L. Messi', long_name='Lionel Andrés Messi Cuccittini', player_positions='RW', overall='91', potential='91', value_eur='54000000', wage_eur='195000', age='35', dob='1987-06-24', height_cm='169', weight_kg='67', league_id='16', league_name='Ligue 1', league_level='1', club_team_id='73', club_name='Paris Saint Germain', club_position='RS', club_jersey_number='30', club_loaned_from=None, club_joined_date='2021-08-10', club_contract_valid_until_year='2023', nationality_id='52', nationality_name='Argentina', nation_team_id='1369', nation_position='RW', nation_jersey_number='10', preferred_foot='Left', weak_foot='4', skill_moves='4', international_reputation='5', work_rate='Low/Low', body_type='Unique', real_face='Yes', release_clause_eur='99900000', player_tags='#Dribbler, #Distance Shooter, #FK Specialist, #Acrobat, #Clinical Finisher, #Complete Forward', player_traits='Finesse Shot, Long Shot Taker (AI), Playmaker (AI), Outside Foot Shot, Chip Shot (AI), Technical Dribbler (AI)', pace='81', shooting='89', passing='90', dribbling='94', defending='34', physic='64', attacking_crossing='84', attacking_finishing='90', attacking_heading_accuracy='70', attacking_short_passing='91', attacking_volleys='88', skill_dribbling='95', skill_curve='93', skill_fk_accuracy='93', skill_long_passing='90', skill_ball_control='93', movement_acceleration='87', movement_sprint_speed='76', movement_agility='91', movement_reactions='92', movement_balance='95', power_shot_power='86', power_jumping='68', power_stamina='70', power_strength='68', power_long_shots='91', mentality_aggression='44', mentality_interceptions='40', mentality_positioning='93', mentality_vision='94', mentality_penalties='75', mentality_composure='96', defending_marking_awareness='20', defending_standing_tackle='35', defending_sliding_tackle='24', goalkeeping_diving='6', goalkeeping_handling='11', goalkeeping_kicking='15', goalkeeping_positioning='14', goalkeeping_reflexes='8', goalkeeping_speed=None, ls='87+3', st='87+3', rs='87+3', lw='90', lf='91', cf='91', rf='91', rw='90', lam='92-1', cam='92-1', ram='92-1', lm='89+2', lcm='85+3', cm='85+3', rcm='85+3', rm='89+2', lwb='64+3', ldm='63+3', cdm='63+3', rdm='63+3', rwb='64+3', lb='59+3', lcb='50+3', cb='50+3', rcb='50+3', rb='59+3', gk='19+3', player_face_url='https://cdn.sofifa.net/players/158/023/23_120.png')"
      ]
     },
     "execution_count": 31,
     "metadata": {},
     "output_type": "execute_result"
    }
   ],
   "source": [
    "rdd.first()"
   ]
  },
  {
   "cell_type": "markdown",
   "metadata": {},
   "source": [
    "Formatting each row"
   ]
  },
  {
   "cell_type": "code",
   "execution_count": 32,
   "metadata": {},
   "outputs": [],
   "source": [
    "def format_row(row):\n",
    "    return ', '.join([str(field).replace(',', ';') for field in row])\n"
   ]
  },
  {
   "cell_type": "code",
   "execution_count": 33,
   "metadata": {},
   "outputs": [],
   "source": [
    "formatted_rdd = rdd.map(format_row)"
   ]
  },
  {
   "cell_type": "code",
   "execution_count": 34,
   "metadata": {},
   "outputs": [
    {
     "name": "stderr",
     "output_type": "stream",
     "text": [
      "                                                                                \r"
     ]
    },
    {
     "data": {
      "text/plain": [
       "'158023, /player/158023/lionel-messi/230009, 23, 9, 2023-01-13, L. Messi, Lionel Andrés Messi Cuccittini, RW, 91, 91, 54000000, 195000, 35, 1987-06-24, 169, 67, 16, Ligue 1, 1, 73, Paris Saint Germain, RS, 30, None, 2021-08-10, 2023, 52, Argentina, 1369, RW, 10, Left, 4, 4, 5, Low/Low, Unique, Yes, 99900000, #Dribbler; #Distance Shooter; #FK Specialist; #Acrobat; #Clinical Finisher; #Complete Forward, Finesse Shot; Long Shot Taker (AI); Playmaker (AI); Outside Foot Shot; Chip Shot (AI); Technical Dribbler (AI), 81, 89, 90, 94, 34, 64, 84, 90, 70, 91, 88, 95, 93, 93, 90, 93, 87, 76, 91, 92, 95, 86, 68, 70, 68, 91, 44, 40, 93, 94, 75, 96, 20, 35, 24, 6, 11, 15, 14, 8, None, 87+3, 87+3, 87+3, 90, 91, 91, 91, 90, 92-1, 92-1, 92-1, 89+2, 85+3, 85+3, 85+3, 89+2, 64+3, 63+3, 63+3, 63+3, 64+3, 59+3, 50+3, 50+3, 50+3, 59+3, 19+3, https://cdn.sofifa.net/players/158/023/23_120.png'"
      ]
     },
     "execution_count": 34,
     "metadata": {},
     "output_type": "execute_result"
    }
   ],
   "source": [
    "formatted_rdd.first()"
   ]
  },
  {
   "cell_type": "code",
   "execution_count": 35,
   "metadata": {},
   "outputs": [
    {
     "name": "stderr",
     "output_type": "stream",
     "text": [
      "[Stage 7:=======================================================> (41 + 1) / 42]\r"
     ]
    },
    {
     "name": "stdout",
     "output_type": "stream",
     "text": [
      "Number of rows with None values: 10003590\n"
     ]
    },
    {
     "name": "stderr",
     "output_type": "stream",
     "text": [
      "                                                                                \r"
     ]
    }
   ],
   "source": [
    "def has_none_values(fields):\n",
    "    return any(field.strip() == \"\" or field.strip().lower() == \"none\" for field in fields)\n",
    "none_rows = formatted_rdd.filter(has_none_values)\n",
    "none_count = none_rows.count()\n",
    "print(f\"Number of rows with None values: {none_count}\")"
   ]
  },
  {
   "cell_type": "code",
   "execution_count": 36,
   "metadata": {},
   "outputs": [
    {
     "data": {
      "text/plain": [
       "['158023, /player/158023/lionel-messi/230009, 23, 9, 2023-01-13, L. Messi, Lionel Andrés Messi Cuccittini, RW, 91, 91, 54000000, 195000, 35, 1987-06-24, 169, 67, 16, Ligue 1, 1, 73, Paris Saint Germain, RS, 30, None, 2021-08-10, 2023, 52, Argentina, 1369, RW, 10, Left, 4, 4, 5, Low/Low, Unique, Yes, 99900000, #Dribbler; #Distance Shooter; #FK Specialist; #Acrobat; #Clinical Finisher; #Complete Forward, Finesse Shot; Long Shot Taker (AI); Playmaker (AI); Outside Foot Shot; Chip Shot (AI); Technical Dribbler (AI), 81, 89, 90, 94, 34, 64, 84, 90, 70, 91, 88, 95, 93, 93, 90, 93, 87, 76, 91, 92, 95, 86, 68, 70, 68, 91, 44, 40, 93, 94, 75, 96, 20, 35, 24, 6, 11, 15, 14, 8, None, 87+3, 87+3, 87+3, 90, 91, 91, 91, 90, 92-1, 92-1, 92-1, 89+2, 85+3, 85+3, 85+3, 89+2, 64+3, 63+3, 63+3, 63+3, 64+3, 59+3, 50+3, 50+3, 50+3, 59+3, 19+3, https://cdn.sofifa.net/players/158/023/23_120.png',\n",
       " '165153, /player/165153/karim-benzema/230009, 23, 9, 2023-01-13, K. Benzema, Karim Benzema, CF; ST, 91, 91, 64000000, 450000, 34, 1987-12-19, 185, 81, 53, La Liga, 1, 243, Real Madrid, CF, 9, None, 2009-07-09, 2023, 18, France, None, None, None, Right, 4, 4, 4, Medium/Medium, Normal (170-185), Yes, 131200000, #Poacher; #Clinical Finisher, Leadership; Finesse Shot; Playmaker (AI); Outside Foot Shot; Team Player, 80, 88, 83, 87, 39, 78, 75, 92, 90, 89, 88, 87, 82, 73, 76, 91, 79, 80, 78, 92, 72, 87, 79, 82, 82, 80, 63, 39, 92, 89, 84, 90, 43, 24, 18, 13, 11, 5, 5, 7, None, 89+2, 89+2, 89+2, 87, 89, 89, 89, 87, 88+3, 88+3, 88+3, 86+3, 81+3, 81+3, 81+3, 86+3, 64+3, 64+3, 64+3, 64+3, 64+3, 60+3, 55+3, 55+3, 55+3, 60+3, 18+3, https://cdn.sofifa.net/players/165/153/23_120.png',\n",
       " '188545, /player/188545/robert-lewandowski/230009, 23, 9, 2023-01-13, R. Lewandowski, Robert Lewandowski, ST, 91, 91, 84000000, 420000, 33, 1988-08-21, 185, 81, 53, La Liga, 1, 241, FC Barcelona, ST, 9, None, 2022-07-18, 2025, 37, Poland, 1353, ST, 9, Right, 4, 4, 5, High/Medium, Unique, Yes, 172200000, #Aerial Threat; #Distance Shooter; #Clinical Finisher; #Complete Forward, Solid Player; Finesse Shot; Outside Foot Shot; Chip Shot (AI), 75, 91, 79, 86, 44, 83, 71, 94, 91, 84, 89, 85, 79, 85, 70, 89, 76, 75, 77, 93, 82, 91, 85, 76, 87, 84, 81, 49, 94, 81, 90, 88, 35, 42, 19, 15, 6, 12, 8, 10, None, 89+2, 89+2, 89+2, 85, 88, 88, 88, 85, 85+3, 85+3, 85+3, 83+3, 80+3, 80+3, 80+3, 83+3, 64+3, 66+3, 66+3, 66+3, 64+3, 61+3, 60+3, 60+3, 60+3, 61+3, 19+3, https://cdn.sofifa.net/players/188/545/23_120.png',\n",
       " '192985, /player/192985/kevin-de-bruyne/230009, 23, 9, 2023-01-13, K. De Bruyne, Kevin De Bruyne, CM; CAM, 91, 91, 107500000, 350000, 31, 1991-06-28, 181, 75, 13, Premier League, 1, 10, Manchester City, RCM, 17, None, 2015-08-30, 2025, 7, Belgium, 1325, RF, 7, Right, 5, 4, 4, High/Medium, Unique, Yes, 198900000, #Dribbler; #Playmaker; #Distance Shooter; #Crosser; #Complete Midfielder, Injury Prone; Leadership; Early Crosser; Long Passer (AI); Long Shot Taker (AI); Playmaker (AI); Outside Foot Shot, 74, 88, 93, 87, 63, 77, 94, 85, 55, 93, 83, 87, 89, 83, 93, 90, 76, 73, 76, 91, 78, 92, 63, 89, 74, 91, 75, 64, 88, 94, 83, 89, 65, 65, 53, 15, 13, 5, 10, 13, None, 83+3, 83+3, 83+3, 87, 87, 87, 87, 87, 89+2, 89+2, 89+2, 88+3, 89+2, 89+2, 89+2, 88+3, 78+3, 79+3, 79+3, 79+3, 78+3, 74+3, 68+3, 68+3, 68+3, 74+3, 21+3, https://cdn.sofifa.net/players/192/985/23_120.png',\n",
       " '231747, /player/231747/kylian-mbappe/230009, 23, 9, 2023-01-13, K. Mbappé, Kylian Mbappé Lottin, ST; LW, 91, 95, 190500000, 230000, 23, 1998-12-20, 182, 73, 16, Ligue 1, 1, 73, Paris Saint Germain, LS, 7, None, 2018-07-01, 2024, 18, France, 1335, LW, 10, Right, 4, 5, 4, High/Low, Unique, Yes, 366700000, #Speedster; #Dribbler; #Acrobat; #Clinical Finisher; #Complete Forward, Solid Player; Flair; Speed Dribbler (AI); Outside Foot Shot; Technical Dribbler (AI), 97, 89, 80, 92, 36, 76, 78, 93, 72, 85, 83, 93, 80, 69, 71, 91, 97, 97, 93, 93, 81, 88, 77, 87, 76, 82, 64, 38, 92, 83, 80, 88, 26, 34, 32, 13, 5, 7, 11, 6, None, 89+3, 89+3, 89+3, 90, 90, 90, 90, 90, 89+3, 89+3, 89+3, 89+3, 81+3, 81+3, 81+3, 89+3, 67+3, 63+3, 63+3, 63+3, 67+3, 63+3, 54+3, 54+3, 54+3, 63+3, 18+3, https://cdn.sofifa.net/players/231/747/23_120.png']"
      ]
     },
     "execution_count": 36,
     "metadata": {},
     "output_type": "execute_result"
    }
   ],
   "source": [
    "formatted_rdd.take(5)\n"
   ]
  },
  {
   "cell_type": "code",
   "execution_count": 37,
   "metadata": {},
   "outputs": [
    {
     "data": {
      "text/plain": [
       "' header = formatted_rdd.filter(lambda row: \"player_id\" in row).first() '"
      ]
     },
     "execution_count": 37,
     "metadata": {},
     "output_type": "execute_result"
    }
   ],
   "source": [
    "\"\"\" header = formatted_rdd.filter(lambda row: \"player_id\" in row).first() \"\"\""
   ]
  },
  {
   "cell_type": "code",
   "execution_count": 38,
   "metadata": {},
   "outputs": [
    {
     "data": {
      "text/plain": [
       "'player_id,player_url,fifa_version,fifa_update,fifa_update_date,short_name,long_name,player_positions,overall,potential,value_eur,wage_eur,age,dob,height_cm,weight_kg,league_id,league_name,league_level,club_team_id,club_name,club_position,club_jersey_number,club_loaned_from,club_joined_date,club_contract_valid_until_year,nationality_id,nationality_name,nation_team_id,nation_position,nation_jersey_number,preferred_foot,weak_foot,skill_moves,international_reputation,work_rate,body_type,real_face,release_clause_eur,player_tags,player_traits,pace,shooting,passing,dribbling,defending,physic,attacking_crossing,attacking_finishing,attacking_heading_accuracy,attacking_short_passing,attacking_volleys,skill_dribbling,skill_curve,skill_fk_accuracy,skill_long_passing,skill_ball_control,movement_acceleration,movement_sprint_speed,movement_agility,movement_reactions,movement_balance,power_shot_power,power_jumping,power_stamina,power_strength,power_long_shots,mentality_aggression,mentality_interceptions,mentality_positioning,mentality_vision,mentality_penalties,mentality_composure,defending_marking_awareness,defending_standing_tackle,defending_sliding_tackle,goalkeeping_diving,goalkeeping_handling,goalkeeping_kicking,goalkeeping_positioning,goalkeeping_reflexes,goalkeeping_speed,ls,st,rs,lw,lf,cf,rf,rw,lam,cam,ram,lm,lcm,cm,rcm,rm,lwb,ldm,cdm,rdm,rwb,lb,lcb,cb,rcb,rb,gk,player_face_url'"
      ]
     },
     "execution_count": 38,
     "metadata": {},
     "output_type": "execute_result"
    }
   ],
   "source": [
    "header_rdd = spark.sparkContext.parallelize([header])\n",
    "final_rdd = header_rdd.union(formatted_rdd)\n",
    "final_rdd.first()"
   ]
  },
  {
   "cell_type": "code",
   "execution_count": 39,
   "metadata": {},
   "outputs": [
    {
     "data": {
      "text/plain": [
       "['player_id,player_url,fifa_version,fifa_update,fifa_update_date,short_name,long_name,player_positions,overall,potential,value_eur,wage_eur,age,dob,height_cm,weight_kg,league_id,league_name,league_level,club_team_id,club_name,club_position,club_jersey_number,club_loaned_from,club_joined_date,club_contract_valid_until_year,nationality_id,nationality_name,nation_team_id,nation_position,nation_jersey_number,preferred_foot,weak_foot,skill_moves,international_reputation,work_rate,body_type,real_face,release_clause_eur,player_tags,player_traits,pace,shooting,passing,dribbling,defending,physic,attacking_crossing,attacking_finishing,attacking_heading_accuracy,attacking_short_passing,attacking_volleys,skill_dribbling,skill_curve,skill_fk_accuracy,skill_long_passing,skill_ball_control,movement_acceleration,movement_sprint_speed,movement_agility,movement_reactions,movement_balance,power_shot_power,power_jumping,power_stamina,power_strength,power_long_shots,mentality_aggression,mentality_interceptions,mentality_positioning,mentality_vision,mentality_penalties,mentality_composure,defending_marking_awareness,defending_standing_tackle,defending_sliding_tackle,goalkeeping_diving,goalkeeping_handling,goalkeeping_kicking,goalkeeping_positioning,goalkeeping_reflexes,goalkeeping_speed,ls,st,rs,lw,lf,cf,rf,rw,lam,cam,ram,lm,lcm,cm,rcm,rm,lwb,ldm,cdm,rdm,rwb,lb,lcb,cb,rcb,rb,gk,player_face_url',\n",
       " '158023, /player/158023/lionel-messi/230009, 23, 9, 2023-01-13, L. Messi, Lionel Andrés Messi Cuccittini, RW, 91, 91, 54000000, 195000, 35, 1987-06-24, 169, 67, 16, Ligue 1, 1, 73, Paris Saint Germain, RS, 30, None, 2021-08-10, 2023, 52, Argentina, 1369, RW, 10, Left, 4, 4, 5, Low/Low, Unique, Yes, 99900000, #Dribbler; #Distance Shooter; #FK Specialist; #Acrobat; #Clinical Finisher; #Complete Forward, Finesse Shot; Long Shot Taker (AI); Playmaker (AI); Outside Foot Shot; Chip Shot (AI); Technical Dribbler (AI), 81, 89, 90, 94, 34, 64, 84, 90, 70, 91, 88, 95, 93, 93, 90, 93, 87, 76, 91, 92, 95, 86, 68, 70, 68, 91, 44, 40, 93, 94, 75, 96, 20, 35, 24, 6, 11, 15, 14, 8, None, 87+3, 87+3, 87+3, 90, 91, 91, 91, 90, 92-1, 92-1, 92-1, 89+2, 85+3, 85+3, 85+3, 89+2, 64+3, 63+3, 63+3, 63+3, 64+3, 59+3, 50+3, 50+3, 50+3, 59+3, 19+3, https://cdn.sofifa.net/players/158/023/23_120.png',\n",
       " '165153, /player/165153/karim-benzema/230009, 23, 9, 2023-01-13, K. Benzema, Karim Benzema, CF; ST, 91, 91, 64000000, 450000, 34, 1987-12-19, 185, 81, 53, La Liga, 1, 243, Real Madrid, CF, 9, None, 2009-07-09, 2023, 18, France, None, None, None, Right, 4, 4, 4, Medium/Medium, Normal (170-185), Yes, 131200000, #Poacher; #Clinical Finisher, Leadership; Finesse Shot; Playmaker (AI); Outside Foot Shot; Team Player, 80, 88, 83, 87, 39, 78, 75, 92, 90, 89, 88, 87, 82, 73, 76, 91, 79, 80, 78, 92, 72, 87, 79, 82, 82, 80, 63, 39, 92, 89, 84, 90, 43, 24, 18, 13, 11, 5, 5, 7, None, 89+2, 89+2, 89+2, 87, 89, 89, 89, 87, 88+3, 88+3, 88+3, 86+3, 81+3, 81+3, 81+3, 86+3, 64+3, 64+3, 64+3, 64+3, 64+3, 60+3, 55+3, 55+3, 55+3, 60+3, 18+3, https://cdn.sofifa.net/players/165/153/23_120.png',\n",
       " '188545, /player/188545/robert-lewandowski/230009, 23, 9, 2023-01-13, R. Lewandowski, Robert Lewandowski, ST, 91, 91, 84000000, 420000, 33, 1988-08-21, 185, 81, 53, La Liga, 1, 241, FC Barcelona, ST, 9, None, 2022-07-18, 2025, 37, Poland, 1353, ST, 9, Right, 4, 4, 5, High/Medium, Unique, Yes, 172200000, #Aerial Threat; #Distance Shooter; #Clinical Finisher; #Complete Forward, Solid Player; Finesse Shot; Outside Foot Shot; Chip Shot (AI), 75, 91, 79, 86, 44, 83, 71, 94, 91, 84, 89, 85, 79, 85, 70, 89, 76, 75, 77, 93, 82, 91, 85, 76, 87, 84, 81, 49, 94, 81, 90, 88, 35, 42, 19, 15, 6, 12, 8, 10, None, 89+2, 89+2, 89+2, 85, 88, 88, 88, 85, 85+3, 85+3, 85+3, 83+3, 80+3, 80+3, 80+3, 83+3, 64+3, 66+3, 66+3, 66+3, 64+3, 61+3, 60+3, 60+3, 60+3, 61+3, 19+3, https://cdn.sofifa.net/players/188/545/23_120.png',\n",
       " '192985, /player/192985/kevin-de-bruyne/230009, 23, 9, 2023-01-13, K. De Bruyne, Kevin De Bruyne, CM; CAM, 91, 91, 107500000, 350000, 31, 1991-06-28, 181, 75, 13, Premier League, 1, 10, Manchester City, RCM, 17, None, 2015-08-30, 2025, 7, Belgium, 1325, RF, 7, Right, 5, 4, 4, High/Medium, Unique, Yes, 198900000, #Dribbler; #Playmaker; #Distance Shooter; #Crosser; #Complete Midfielder, Injury Prone; Leadership; Early Crosser; Long Passer (AI); Long Shot Taker (AI); Playmaker (AI); Outside Foot Shot, 74, 88, 93, 87, 63, 77, 94, 85, 55, 93, 83, 87, 89, 83, 93, 90, 76, 73, 76, 91, 78, 92, 63, 89, 74, 91, 75, 64, 88, 94, 83, 89, 65, 65, 53, 15, 13, 5, 10, 13, None, 83+3, 83+3, 83+3, 87, 87, 87, 87, 87, 89+2, 89+2, 89+2, 88+3, 89+2, 89+2, 89+2, 88+3, 78+3, 79+3, 79+3, 79+3, 78+3, 74+3, 68+3, 68+3, 68+3, 74+3, 21+3, https://cdn.sofifa.net/players/192/985/23_120.png']"
      ]
     },
     "execution_count": 39,
     "metadata": {},
     "output_type": "execute_result"
    }
   ],
   "source": [
    "final_rdd.take(5)"
   ]
  },
  {
   "cell_type": "markdown",
   "metadata": {},
   "source": [
    "Counting Columns"
   ]
  },
  {
   "cell_type": "code",
   "execution_count": 40,
   "metadata": {},
   "outputs": [],
   "source": [
    "column_counts = final_rdd.map(lambda line: len(line.split(',')))"
   ]
  },
  {
   "cell_type": "code",
   "execution_count": 41,
   "metadata": {},
   "outputs": [
    {
     "data": {
      "text/plain": [
       "[110, 110, 110, 110, 110]"
      ]
     },
     "execution_count": 41,
     "metadata": {},
     "output_type": "execute_result"
    }
   ],
   "source": [
    "column_counts.take(5)\n"
   ]
  },
  {
   "cell_type": "code",
   "execution_count": null,
   "metadata": {},
   "outputs": [
    {
     "data": {
      "text/plain": [
       "' formatted_rdd = final_rdd.repartition(50) \\n '"
      ]
     },
     "execution_count": 42,
     "metadata": {},
     "output_type": "execute_result"
    }
   ],
   "source": [
    "formatted_rdd = final_rdd.repartition(50) \n"
   ]
  },
  {
   "cell_type": "code",
   "execution_count": null,
   "metadata": {},
   "outputs": [
    {
     "name": "stderr",
     "output_type": "stream",
     "text": [
      "                                                                                \r"
     ]
    }
   ],
   "source": [
    "# formatted_rdd.saveAsTextFile(\"hdfs:///eaplayer_data/male_players_text_revised\")"
   ]
  },
  {
   "cell_type": "code",
   "execution_count": 44,
   "metadata": {},
   "outputs": [],
   "source": [
    "spark.stop()"
   ]
  },
  {
   "cell_type": "markdown",
   "metadata": {},
   "source": [
    "- About data (10 million rows aprox)\n",
    "- 10003590 rows"
   ]
  }
 ],
 "metadata": {
  "kernelspec": {
   "display_name": "Python 3",
   "language": "python",
   "name": "python3"
  },
  "language_info": {
   "codemirror_mode": {
    "name": "ipython",
    "version": 3
   },
   "file_extension": ".py",
   "mimetype": "text/x-python",
   "name": "python",
   "nbconvert_exporter": "python",
   "pygments_lexer": "ipython3",
   "version": "3.8.10"
  }
 },
 "nbformat": 4,
 "nbformat_minor": 2
}

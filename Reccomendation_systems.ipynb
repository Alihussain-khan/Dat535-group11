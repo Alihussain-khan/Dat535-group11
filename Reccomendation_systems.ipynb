{
 "cells": [
  {
   "cell_type": "code",
   "execution_count": 1,
   "metadata": {},
   "outputs": [],
   "source": [
    "from pyspark.sql import SparkSession\n",
    "from pyspark.sql.functions import col, regexp_replace,lit, desc, lower, explode\n",
    "from pyspark.sql import SparkSession\n",
    "from pyspark.sql import functions as F\n",
    "import json"
   ]
  },
  {
   "cell_type": "code",
   "execution_count": 2,
   "metadata": {},
   "outputs": [],
   "source": [
    "spark = SparkSession.builder \\\n",
    "    .appName(\"Recomendation System\") \\\n",
    "    .getOrCreate()"
   ]
  },
  {
   "cell_type": "code",
   "execution_count": 3,
   "metadata": {},
   "outputs": [
    {
     "name": "stderr",
     "output_type": "stream",
     "text": [
      "                                                                                \r"
     ]
    }
   ],
   "source": [
    "df = spark.read.parquet('hdfs:///eaplayer_data/male_players_version_23.parquet')"
   ]
  },
  {
   "cell_type": "code",
   "execution_count": 4,
   "metadata": {},
   "outputs": [],
   "source": [
    "club_positions_df = df.select(\"club_position\")"
   ]
  },
  {
   "cell_type": "code",
   "execution_count": 5,
   "metadata": {},
   "outputs": [],
   "source": [
    "club_positions_rdd = club_positions_df.rdd"
   ]
  },
  {
   "cell_type": "code",
   "execution_count": 6,
   "metadata": {},
   "outputs": [],
   "source": [
    "positions_rdd = club_positions_rdd.map(lambda row: row[0])"
   ]
  },
  {
   "cell_type": "code",
   "execution_count": 7,
   "metadata": {},
   "outputs": [],
   "source": [
    "unique_positions_rdd = positions_rdd.distinct()"
   ]
  },
  {
   "cell_type": "code",
   "execution_count": 8,
   "metadata": {},
   "outputs": [
    {
     "name": "stderr",
     "output_type": "stream",
     "text": [
      "                                                                                \r"
     ]
    }
   ],
   "source": [
    "col_positions = unique_positions_rdd.collect()"
   ]
  },
  {
   "cell_type": "markdown",
   "metadata": {},
   "source": [
    "### recomendation system 1st try (no criteria)\n",
    "- No criteria what so ever. The code Iterates through positions and selects the best available player, one by one."
   ]
  },
  {
   "cell_type": "code",
   "execution_count": 9,
   "metadata": {},
   "outputs": [
    {
     "data": {
      "text/plain": [
       "' recommended_team = []\\nselected_player_ids = set()  \\n\\nfor position in col_positions:\\n    position_players = df.filter(col(\\'club_position\\').isNotNull() & (col(\\'club_position\\') != \\'\\'))\\n    \\n    selected_players = position_players.select(\\n        \"player_id\", \\n        \"short_name\", \\n        \"overall\", \\n        lit(position).alias(\"position\")\\n    ).filter(~col(\"player_id\").isin(selected_player_ids))  \\n\\n    best_player = selected_players.orderBy(desc(\"overall\")).limit(1).collect()\\n    \\n    if best_player:\\n        player = best_player[0]\\n        recommended_team.append(player)\\n        selected_player_ids.add(player[\\'player_id\\'])  \\n\\nprint(\"\\nRecommended Team:\")\\nfor player in recommended_team:\\n    print(f\"Position: {player[\\'position\\']}, Player ID: {player[\\'player_id\\']}, Name: {player[\\'short_name\\']}, Overall: {player[\\'overall\\']}\")\\n '"
      ]
     },
     "execution_count": 9,
     "metadata": {},
     "output_type": "execute_result"
    }
   ],
   "source": [
    "\"\"\" recommended_team = []\n",
    "selected_player_ids = set()  \n",
    "\n",
    "for position in col_positions:\n",
    "    position_players = df.filter(col('club_position').isNotNull() & (col('club_position') != ''))\n",
    "    \n",
    "    selected_players = position_players.select(\n",
    "        \"player_id\", \n",
    "        \"short_name\", \n",
    "        \"overall\", \n",
    "        lit(position).alias(\"position\")\n",
    "    ).filter(~col(\"player_id\").isin(selected_player_ids))  \n",
    "\n",
    "    best_player = selected_players.orderBy(desc(\"overall\")).limit(1).collect()\n",
    "    \n",
    "    if best_player:\n",
    "        player = best_player[0]\n",
    "        recommended_team.append(player)\n",
    "        selected_player_ids.add(player['player_id'])  \n",
    "\n",
    "print(\"\\nRecommended Team:\")\n",
    "for player in recommended_team:\n",
    "    print(f\"Position: {player['position']}, Player ID: {player['player_id']}, Name: {player['short_name']}, Overall: {player['overall']}\")\n",
    " \"\"\""
   ]
  },
  {
   "cell_type": "markdown",
   "metadata": {},
   "source": [
    "- Above we can see that good players like Ronaldo and Messi do show up.\n",
    "- But we are not sure If thats the best team considering their age."
   ]
  },
  {
   "cell_type": "markdown",
   "metadata": {},
   "source": [
    "### Below updating the previous code, adding age and overall score criteria"
   ]
  },
  {
   "cell_type": "code",
   "execution_count": 10,
   "metadata": {},
   "outputs": [
    {
     "data": {
      "text/plain": [
       "' recommended_team = []\\nselected_player_ids = set() \\n\\nfor position in col_positions:\\n    position_players = df.filter(\\n        (col(\\'club_position\\') == position) & \\n        (col(\"age\") < 30) &  \\n        (col(\"overall\") > 80) \\n    )\\n\\n    selected_players = position_players.select(\\n        \"player_id\", \\n        \"short_name\", \\n        \"overall\", \\n        \"age\",\\n        lit(position).alias(\"position\")\\n    ).filter(~col(\"player_id\").isin(selected_player_ids))\\n\\n    best_player = selected_players.orderBy(desc(\"overall\")).limit(1).collect()\\n    \\n   \\n    if best_player:\\n        player = best_player[0]\\n        recommended_team.append(player)\\n        selected_player_ids.add(player[\\'player_id\\']) \\n\\n\\nprint(\"\\nRecommended Team:\")\\nfor player in recommended_team:\\n    print(f\"Position: {player[\\'position\\']}, Player ID: {player[\\'player_id\\']}, Name: {player[\\'short_name\\']}, Overall: {player[\\'overall\\']}, Age: {player[\\'age\\']}\") '"
      ]
     },
     "execution_count": 10,
     "metadata": {},
     "output_type": "execute_result"
    }
   ],
   "source": [
    "\"\"\" recommended_team = []\n",
    "selected_player_ids = set() \n",
    "\n",
    "for position in col_positions:\n",
    "    position_players = df.filter(\n",
    "        (col('club_position') == position) & \n",
    "        (col(\"age\") < 30) &  \n",
    "        (col(\"overall\") > 80) \n",
    "    )\n",
    "\n",
    "    selected_players = position_players.select(\n",
    "        \"player_id\", \n",
    "        \"short_name\", \n",
    "        \"overall\", \n",
    "        \"age\",\n",
    "        lit(position).alias(\"position\")\n",
    "    ).filter(~col(\"player_id\").isin(selected_player_ids))\n",
    "\n",
    "    best_player = selected_players.orderBy(desc(\"overall\")).limit(1).collect()\n",
    "    \n",
    "   \n",
    "    if best_player:\n",
    "        player = best_player[0]\n",
    "        recommended_team.append(player)\n",
    "        selected_player_ids.add(player['player_id']) \n",
    "\n",
    "\n",
    "print(\"\\nRecommended Team:\")\n",
    "for player in recommended_team:\n",
    "    print(f\"Position: {player['position']}, Player ID: {player['player_id']}, Name: {player['short_name']}, Overall: {player['overall']}, Age: {player['age']}\") \"\"\""
   ]
  },
  {
   "cell_type": "markdown",
   "metadata": {},
   "source": [
    "- here we can see that famous old players have been removed. \n",
    "- but young and upcoming players like Mbappe Come up\n",
    "- issue with this one is that we are applying a single criteria to all players"
   ]
  },
  {
   "cell_type": "markdown",
   "metadata": {},
   "source": [
    "### Different criteria for every spot"
   ]
  },
  {
   "cell_type": "code",
   "execution_count": 11,
   "metadata": {},
   "outputs": [],
   "source": [
    "position_criteria = {\n",
    "    \"cam\": (col(\"potential\") > 85) & (col(\"age\") < 30) & (col(\"shooting\") > 75),\n",
    "    \"ls\": (col(\"potential\") > 85) & (col(\"age\") < 30) & (col(\"shooting\") > 75) & (col(\"skill_dribbling\") > 88) ,\n",
    "    \"cb\": (col(\"age\") < 30) & (col(\"overall\") > 80),\n",
    "    \"lb\": (col(\"potential\") > 88) & (col(\"age\") < 30) & (col(\"weight_kg\") < 80) ,\n",
    "    \"rcm\": (col(\"potential\") > 85) & (col(\"age\") < 30) & (col(\"power_long_shots\") > 70)  & (col(\"skill_ball_control\") > 85) &(col(\"defending\") > 77),\n",
    "    \"rwb\":  (col(\"potential\") > 85) & (col(\"age\") < 30),\n",
    "    \"res\": (col(\"age\") < 30) & (col(\"overall\") > 80),\n",
    "    \"rdm\": (col(\"potential\") > 82) & (col(\"age\") < 30) & (col(\"defending_standing_tackle\")>80 ) & (col(\"passing\") > 85),\n",
    "    \"ldm\": (col(\"potential\") > 82) & (col(\"age\") < 30) & (col(\"defending_standing_tackle\")>80 ) & (col(\"passing\") > 80),\n",
    "    \"st\": (col(\"potential\") > 85) & (col(\"age\") < 30) & (col(\"shooting\") > 75)  &(col(\"skill_dribbling\") > 85) & (col(\"attacking_finishing\") > 78) & (col(\"movement_acceleration\") > 95),\n",
    "    \"none\": (col(\"age\") < 30) & (col(\"overall\") > 80),\n",
    "    \"sub\": (col(\"age\") < 30) & (col(\"overall\") > 80),\n",
    "    \"rb\": (col(\"potential\") > 82) & (col(\"age\") < 30) & (col(\"defending_standing_tackle\")>80 ) & (col(\"passing\") > 80) ,\n",
    "    \"lcb\":  (col(\"potential\") > 82) & (col(\"age\") < 30) & (col(\"defending_standing_tackle\")>75 ) & (col(\"passing\") > 75),\n",
    "    \"rcb\": (col(\"potential\") > 85) & (col(\"age\") < 30) &(col(\"defending_sliding_tackle\") > 80) & (col(\"passing\") > 67),\n",
    "    \"lcm\": (col(\"potential\") > 85) & (col(\"age\") < 30) & (col(\"power_long_shots\") > 70)  & (col(\"skill_ball_control\") > 70) &(col(\"defending\") > 70) & (col('skill_dribbling') > 80),\n",
    "    \"lm\": (col(\"age\") < 30) & (col(\"overall\") > 80),\n",
    "    \"cdm\": (col(\"potential\") > 85) & (col(\"age\") < 30) & (col(\"passing\") > 70) &(col(\"defending\") > 70) & (col('skill_dribbling') > 70)  & (col(\"height_cm\") > 190) &(col(\"weight_kg\") > 80) ,\n",
    "    \"lw\": (col(\"potential\") > 85) & (col(\"age\") < 30) & (col(\"shooting\") > 75)  &(col(\"skill_dribbling\") > 85) & (col(\"attacking_finishing\") > 78),\n",
    "    \"lwb\":  (col(\"potential\") > 85) & (col(\"age\") < 30) &(col(\"skill_dribbling\") > 70),\n",
    "    \"rm\": (col(\"potential\") > 85) & (col(\"age\") < 30) & (col(\"skill_ball_control\") > 70) &(col(\"defending\") > 60) & (col('skill_dribbling') > 60),\n",
    "    \"cm\":  (col(\"potential\") > 85) & (col(\"age\") < 30) & (col(\"power_long_shots\") > 70)  & (col(\"skill_ball_control\") > 70) & (col('skill_dribbling') > 80) &(col(\"defending_marking_awareness\") > 70),\n",
    "    \"rs\": (col(\"potential\") > 85) & (col(\"age\") < 30) & (col(\"shooting\") > 75) & (col(\"skill_dribbling\") > 80),\n",
    "    \"lf\": (col(\"potential\") > 85) & (col(\"age\") < 30) & (col(\"skill_ball_control\") > 70) &(col(\"defending\") > 60) & (col('skill_dribbling') > 60),\n",
    "    \"rw\": (col(\"potential\") > 85) & (col(\"age\") < 30) & (col(\"shooting\") > 75)  &(col(\"skill_dribbling\") > 85) & (col(\"attacking_finishing\") > 78),\n",
    "    \"cf\": (col(\"age\") < 30) & (col(\"overall\") > 80),\n",
    "    \"lam\": (col(\"potential\") > 85) & (col(\"age\") < 30) & (col(\"power_long_shots\") > 70)  & (col(\"skill_ball_control\") > 70) & (col('skill_dribbling') > 80) &(col(\"attacking_finishing\")>75),\n",
    "    \"ram\": (col(\"age\") < 30) & (col(\"overall\") > 80),\n",
    "    \"rf\": (col(\"age\") < 30) & (col(\"overall\") > 80),\n",
    "}\n"
   ]
  },
  {
   "cell_type": "code",
   "execution_count": 12,
   "metadata": {},
   "outputs": [
    {
     "data": {
      "text/plain": [
       "' recommended_team = []\\nselected_player_ids = set()\\n\\navailable_players = df\\n\\n\\nfor position in col_positions:\\n    print(f\"\\nEvaluating position: {position}\")\\n    filter_condition = position_criteria.get(position)\\n    position_players = available_players.filter(\\n        (col(\\'club_position\\').contains(position)) & \\n        filter_condition \\n    )\\n\\n    num_available = position_players.count()\\n    print(f\"Number of players available for {position}: {num_available}\")\\n\\n    selected_players = position_players.select(\\n        \"player_id\", \\n        \"short_name\", \\n        \"overall\", \\n        \"age\",\\n        lit(position).alias(\"position\")\\n    ).filter(~col(\"player_id\").isin(selected_player_ids))\\n\\n \\n    best_player = selected_players.orderBy(desc(\"overall\")).limit(1).collect()\\n    \\n    if best_player:\\n        player = best_player[0]\\n        recommended_team.append(player)\\n        selected_player_ids.add(player[\\'player_id\\']) \\n        print(f\"Selected Player for {position}: {player[\\'short_name\\']}, Overall: {player[\\'overall\\']}, Age: {player[\\'age\\']}\")\\n        available_players = available_players.filter(~(col(\"player_id\") == player[\\'player_id\\']))\\n    else:\\n        print(f\"No suitable player found for position: {position}\")\\n\\nprint(\"\\nRecommended Team:\")\\nfor player in recommended_team:\\n    print(f\"Position: {player[\\'position\\']}, Player ID: {player[\\'player_id\\']}, Name: {player[\\'short_name\\']}, Overall: {player[\\'overall\\']}, Age: {player[\\'age\\']}\")\\n'"
      ]
     },
     "execution_count": 12,
     "metadata": {},
     "output_type": "execute_result"
    }
   ],
   "source": [
    "''' recommended_team = []\n",
    "selected_player_ids = set()\n",
    "\n",
    "available_players = df\n",
    "\n",
    "\n",
    "for position in col_positions:\n",
    "    print(f\"\\nEvaluating position: {position}\")\n",
    "    filter_condition = position_criteria.get(position)\n",
    "    position_players = available_players.filter(\n",
    "        (col('club_position').contains(position)) & \n",
    "        filter_condition \n",
    "    )\n",
    "\n",
    "    num_available = position_players.count()\n",
    "    print(f\"Number of players available for {position}: {num_available}\")\n",
    "\n",
    "    selected_players = position_players.select(\n",
    "        \"player_id\", \n",
    "        \"short_name\", \n",
    "        \"overall\", \n",
    "        \"age\",\n",
    "        lit(position).alias(\"position\")\n",
    "    ).filter(~col(\"player_id\").isin(selected_player_ids))\n",
    "\n",
    " \n",
    "    best_player = selected_players.orderBy(desc(\"overall\")).limit(1).collect()\n",
    "    \n",
    "    if best_player:\n",
    "        player = best_player[0]\n",
    "        recommended_team.append(player)\n",
    "        selected_player_ids.add(player['player_id']) \n",
    "        print(f\"Selected Player for {position}: {player['short_name']}, Overall: {player['overall']}, Age: {player['age']}\")\n",
    "        available_players = available_players.filter(~(col(\"player_id\") == player['player_id']))\n",
    "    else:\n",
    "        print(f\"No suitable player found for position: {position}\")\n",
    "\n",
    "print(\"\\nRecommended Team:\")\n",
    "for player in recommended_team:\n",
    "    print(f\"Position: {player['position']}, Player ID: {player['player_id']}, Name: {player['short_name']}, Overall: {player['overall']}, Age: {player['age']}\")\n",
    "'''"
   ]
  },
  {
   "cell_type": "markdown",
   "metadata": {},
   "source": [
    "### this one works the best!!!!!!!"
   ]
  },
  {
   "cell_type": "code",
   "execution_count": 13,
   "metadata": {},
   "outputs": [
    {
     "name": "stderr",
     "output_type": "stream",
     "text": [
      "                                                                                \r"
     ]
    },
    {
     "name": "stdout",
     "output_type": "stream",
     "text": [
      "\n",
      "Recommended Team:\n",
      "Position: lcm, Player ID: 225193, Name: Merino, Overall: 83, Age: 26\n",
      "Position: sub, Player ID: 218667, Name: Bernardo Silva, Overall: 88, Age: 27\n",
      "Position: lcb, Player ID: 239301, Name: L. Martínez, Overall: 82, Age: 24\n",
      "Position: cdm, Player ID: 231866, Name: Rodri, Overall: 87, Age: 26\n",
      "Position: rcb, Player ID: 205452, Name: A. Rüdiger, Overall: 87, Age: 29\n",
      "Position: rcm, Player ID: 223848, Name: S. Milinković-Savić, Overall: 86, Age: 27\n",
      "Position: lb, Player ID: 234396, Name: A. Davies, Overall: 84, Age: 21\n",
      "Position: res, Player ID: 210315, Name: Raúl De Tomás, Overall: 83, Age: 27\n",
      "Position: rw, Player ID: 237692, Name: P. Foden, Overall: 85, Age: 22\n",
      "Position: cf, Player ID: 216547, Name: Rafa, Overall: 82, Age: 29\n",
      "Position: rb, Player ID: 231281, Name: T. Alexander-Arnold, Overall: 87, Age: 23\n",
      "Position: lw, Player ID: 200104, Name: H. Son, Overall: 89, Age: 29\n",
      "Position: st, Player ID: 231747, Name: K. Mbappé, Overall: 91, Age: 23\n",
      "Position: ls, Player ID: 232411, Name: C. Nkunku, Overall: 86, Age: 24\n",
      "Position: rm, Player ID: 246669, Name: B. Saka, Overall: 82, Age: 20\n",
      "Position: lm, Player ID: 208418, Name: Y. Carrasco, Overall: 85, Age: 28\n",
      "Position: ldm, Player ID: 209658, Name: L. Goretzka, Overall: 87, Age: 27\n",
      "Position: cb, Player ID: 207865, Name: Marquinhos, Overall: 88, Age: 28\n",
      "Position: rwb, Player ID: 238074, Name: R. James, Overall: 84, Age: 22\n",
      "Position: rdm, Player ID: 212622, Name: J. Kimmich, Overall: 89, Age: 27\n",
      "Position: lwb, Player ID: 252145, Name: Nuno Mendes, Overall: 80, Age: 20\n",
      "Position: ram, Player ID: 230384, Name: Nailton Suzuki, Overall: 81, Age: 26\n",
      "Position: lf, Player ID: 238067, Name: N. Zaniolo, Overall: 81, Age: 22\n"
     ]
    }
   ],
   "source": [
    "recommended_team = []\n",
    "selected_player_ids = set()\n",
    "\n",
    "\n",
    "for position in col_positions:\n",
    "    criteria = position_criteria.get(position)\n",
    "    position_candidates = (\n",
    "        df\n",
    "        .filter((col(\"club_position\") == position) & criteria & (~col(\"player_id\").isin(selected_player_ids)))\n",
    "        .orderBy(desc(\"overall\"))\n",
    "        .limit(1)\n",
    "    ).collect()\n",
    "    \n",
    "    if position_candidates:\n",
    "        best_player = position_candidates[0]\n",
    "        recommended_team.append({\n",
    "            \"position\": position,\n",
    "            \"player_id\": best_player[\"player_id\"],\n",
    "            \"short_name\": best_player[\"short_name\"],\n",
    "            \"overall\": best_player[\"overall\"],\n",
    "            \"age\": best_player[\"age\"]\n",
    "        })\n",
    "        selected_player_ids.add(best_player[\"player_id\"])\n",
    "\n",
    "print(\"\\nRecommended Team:\")\n",
    "for player in recommended_team:\n",
    "    print(f\"Position: {player['position']}, Player ID: {player['player_id']}, \"\n",
    "          f\"Name: {player['short_name']}, Overall: {player['overall']}, Age: {player['age']}\")\n"
   ]
  },
  {
   "cell_type": "code",
   "execution_count": null,
   "metadata": {},
   "outputs": [
    {
     "name": "stdout",
     "output_type": "stream",
     "text": [
      "Recommended team saved to recommended_team.json\n"
     ]
    }
   ],
   "source": [
    "import json\n",
    "output_file = \"recommended_team.json\"\n",
    "with open(output_file, \"w\") as json_file:\n",
    "    json.dump(recommended_team, json_file, indent=4)\n",
    "print(f\"Recommended team saved to {output_file}\")\n"
   ]
  },
  {
   "cell_type": "markdown",
   "metadata": {},
   "source": [
    "##### following codes where just used to check how many particular players we have if we apply some rules."
   ]
  },
  {
   "cell_type": "code",
   "execution_count": null,
   "metadata": {},
   "outputs": [
    {
     "data": {
      "text/plain": [
       "' goolKeeper = df.filter((col(\"club_position\") == \"GK\") & (col(\"potential\") > 80) & (col(\"age\") < 30) &(col(\\'goalkeeping_reflexes\\') > 80) & (col(\"height_cm\") > 195))\\ngoolKeeper.show() '"
      ]
     },
     "execution_count": 15,
     "metadata": {},
     "output_type": "execute_result"
    }
   ],
   "source": [
    "\"\"\" goolKeeper = df.filter((col(\"club_position\") == \"GK\") & (col(\"potential\") > 80) & (col(\"age\") < 30) &(col('goalkeeping_reflexes') > 80) & (col(\"height_cm\") > 195))\n",
    "goolKeeper.show() \"\"\""
   ]
  },
  {
   "cell_type": "code",
   "execution_count": null,
   "metadata": {},
   "outputs": [
    {
     "data": {
      "text/plain": [
       "' defenderCentralBack = df.filter((col(\"club_position\") == \"cb\")& (col(\"potential\") > 85) &(col(\"fifa_version\") == 21)  )\\ndefenderCentralBack.show() '"
      ]
     },
     "execution_count": 16,
     "metadata": {},
     "output_type": "execute_result"
    }
   ],
   "source": [
    "\"\"\" defenderCentralBack = df.filter((col(\"club_position\") == \"cb\")& (col(\"potential\") > 85) &(col(\"fifa_version\") == 21)  )\n",
    "defenderCentralBack.show() \"\"\""
   ]
  },
  {
   "cell_type": "code",
   "execution_count": null,
   "metadata": {},
   "outputs": [],
   "source": [
    "spark.stop()"
   ]
  }
 ],
 "metadata": {
  "kernelspec": {
   "display_name": "Python 3",
   "language": "python",
   "name": "python3"
  },
  "language_info": {
   "codemirror_mode": {
    "name": "ipython",
    "version": 3
   },
   "file_extension": ".py",
   "mimetype": "text/x-python",
   "name": "python",
   "nbconvert_exporter": "python",
   "pygments_lexer": "ipython3",
   "version": "3.8.10"
  }
 },
 "nbformat": 4,
 "nbformat_minor": 2
}
